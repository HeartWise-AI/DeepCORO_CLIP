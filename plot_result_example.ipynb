{
 "cells": [
  {
   "cell_type": "code",
   "execution_count": null,
   "metadata": {},
   "outputs": [],
   "source": [
    "import numpy as np\n",
    "import pandas as pd\n",
    "\n",
    "# pd.set_option('display.height', 1000)\n",
    "pd.set_option(\"display.max_rows\", 500)\n",
    "pd.set_option(\"display.max_columns\", 500)\n",
    "pd.set_option(\"display.width\", 1000)\n",
    "pd.set_option(\"max_colwidth\", 200)\n",
    "from IPython.core.display import HTML, display\n",
    "\n",
    "display(HTML(\"<style>.container { width:100% !important; }</style>\"))\n",
    "\n",
    "\n",
    "def df_stats(df):\n",
    "    from tabulate import tabulate\n",
    "\n",
    "    print(\"\\n***** Shape: \", df.shape, \" *****\\n\")\n",
    "\n",
    "    columns_list = df.columns.values.tolist()\n",
    "    isnull_list = df.isnull().sum().values.tolist()\n",
    "    isunique_list = df.nunique().values.tolist()\n",
    "    dtypes_list = df.dtypes.tolist()\n",
    "\n",
    "    list_stat_val = list(zip(columns_list, isnull_list, isunique_list, dtypes_list))\n",
    "    df_stat_val = pd.DataFrame(list_stat_val, columns=[\"Name\", \"Null\", \"Unique\", \"Dtypes\"])\n",
    "    print(tabulate(df_stat_val, headers=\"keys\", tablefmt=\"psql\"))\n",
    "    return df.head()"
   ]
  },
  {
   "cell_type": "code",
   "execution_count": null,
   "metadata": {},
   "outputs": [],
   "source": [
    "import pickle\n",
    "\n",
    "# Load the pickle file containing (all_reports, all_text_embeddings)\n",
    "with open(\"text_embeddings.pkl\", \"rb\") as f:\n",
    "    all_reports, all_text_embeddings = pickle.load(f)\n",
    "\n",
    "# Print the first 5 indices and their corresponding reports\n",
    "for i in range(5):\n",
    "    print(f\"Index {i}: {all_reports[i]}\")"
   ]
  },
  {
   "cell_type": "code",
   "execution_count": null,
   "metadata": {},
   "outputs": [],
   "source": [
    "print(len(all_reports))"
   ]
  },
  {
   "cell_type": "code",
   "execution_count": null,
   "metadata": {},
   "outputs": [],
   "source": [
    "import pickle\n",
    "\n",
    "import pandas as pd\n",
    "\n",
    "# Specify the epoch number you want to inspect\n",
    "epoch = 10  # Change this to the desired epoch number\n",
    "\n",
    "# Paths to the CSV and pickle files\n",
    "output_dir = \"outputs\"  # Change if your outputs are in a different directory\n",
    "val_csv_path = f\"{output_dir}/val_epoch{epoch}.csv\"\n",
    "pkl_path = f\"{output_dir}/text_embeddings.pkl\"\n",
    "\n",
    "# Load the CSV containing predictions\n",
    "df = pd.read_csv(val_csv_path)\n",
    "\n",
    "# Load the pickle containing (all_reports, all_text_embeddings)\n",
    "with open(pkl_path, \"rb\") as f:\n",
    "    all_reports, all_text_embeddings = pickle.load(f)\n",
    "\n",
    "# Display top 5 predictions for each video\n",
    "for idx, row in df.iterrows():\n",
    "    file_name = row[\"FileName\"]\n",
    "    ground_truth_idx = row[\"ground_truth_idx\"]\n",
    "    predicted_indices = [row[f\"predicted_idx_{i}\"] for i in range(1, 6)]\n",
    "\n",
    "    # Retrieve the corresponding text reports\n",
    "    ground_truth_report = (\n",
    "        all_reports[ground_truth_idx] if 0 <= ground_truth_idx < len(all_reports) else \"Unknown\"\n",
    "    )\n",
    "    predicted_reports = []\n",
    "    for p_idx in predicted_indices:\n",
    "        if 0 <= p_idx < len(all_reports):\n",
    "            predicted_reports.append(all_reports[p_idx])\n",
    "        else:\n",
    "            predicted_reports.append(\"Unknown\")\n",
    "\n",
    "    print(f\"FileName: {file_name}\")\n",
    "    print(f\"Ground Truth Index: {ground_truth_idx}\")\n",
    "    print(f\"Ground Truth Report: {ground_truth_report}\")\n",
    "    print(\"Top 5 Predicted Reports:\")\n",
    "    for i, report_text in enumerate(predicted_reports, start=1):\n",
    "        display(f\"  {i}. {report_text}\")\n",
    "    display(\"-\" * 50)"
   ]
  },
  {
   "cell_type": "code",
   "execution_count": null,
   "metadata": {},
   "outputs": [],
   "source": [
    "### Stenting procedure"
   ]
  },
  {
   "cell_type": "code",
   "execution_count": null,
   "metadata": {},
   "outputs": [],
   "source": []
  }
 ],
 "metadata": {
  "kernelspec": {
   "display_name": "pytorch",
   "language": "python",
   "name": "python3"
  },
  "language_info": {
   "codemirror_mode": {
    "name": "ipython",
    "version": 3
   },
   "file_extension": ".py",
   "mimetype": "text/x-python",
   "name": "python",
   "nbconvert_exporter": "python",
   "pygments_lexer": "ipython3",
   "version": "3.11.6"
  }
 },
 "nbformat": 4,
 "nbformat_minor": 4
}
