{
 "cells": [
  {
   "cell_type": "code",
   "execution_count": null,
   "metadata": {},
   "outputs": [
    {
     "name": "stderr",
     "output_type": "stream",
     "text": [
      "Failed to detect the name of this notebook, you can set it manually with the WANDB_NOTEBOOK_NAME environment variable to enable code saving.\n",
      "\u001b[34m\u001b[1mwandb\u001b[0m: Using wandb-core as the SDK backend.  Please refer to https://wandb.me/wandb-core for more information.\n"
     ]
    },
    {
     "name": "stdout",
     "output_type": "stream",
     "text": [
      "Create sweep with ID: eppmltv3\n",
      "Sweep URL: https://wandb.ai/mhi_ai/My_DeepCORO_Clip_Sweep_new_hyperparam/sweeps/eppmltv3\n",
      "wandb: Agent Starting Run: u5x8nym4 with config:\n",
      "\tbatch_size: 12\n",
      "\tdropout: 0.014812317222090754\n",
      "\tepochs: 20\n",
      "\tfactor: 0.3\n",
      "\tlearning_rate: 5.899071161042893e-05\n",
      "\tlr_step_period: 15\n",
      "\toptimizer: AdamW\n",
      "\tpatience: 3\n",
      "\trandom_augment: True\n",
      "\tscheduler_type: step\n",
      "\tstride: 2\n",
      "\ttemperature: 0.14617767266819895\n",
      "\ttext_freeze_ratio: 0\n",
      "\tvideo_freeze_ratio: 0\n"
     ]
    },
    {
     "name": "stderr",
     "output_type": "stream",
     "text": [
      "wandb: Using wandb-core as the SDK backend.  Please refer to https://wandb.me/wandb-core for more information.\n",
      "wandb: WARNING Ignoring project 'deepCORO_CLIP' when running a sweep.\n",
      "wandb: WARNING Ignoring entity 'mhi_ai' when running a sweep.\n",
      "wandb: Currently logged in as: robertavram (mhi_ai). Use `wandb login --relogin` to force relogin\n",
      "wandb: Tracking run with wandb version 0.19.0\n",
      "wandb: Run data is saved locally in /volume/DeepCORO_CLIP/wandb/run-20250104_201128-u5x8nym4\n",
      "wandb: Run `wandb offline` to turn off syncing.\n",
      "wandb: Syncing run DeepCORO_Clip_Sweep_Learnable_Temp_Full\n",
      "wandb: ⭐️ View project at https://wandb.ai/mhi_ai/My_DeepCORO_Clip_Sweep_new_hyperparam\n",
      "wandb: 🧹 View sweep at https://wandb.ai/mhi_ai/My_DeepCORO_Clip_Sweep_new_hyperparam/sweeps/eppmltv3\n",
      "wandb: 🚀 View run at https://wandb.ai/mhi_ai/My_DeepCORO_Clip_Sweep_new_hyperparam/runs/u5x8nym4\n"
     ]
    },
    {
     "name": "stdout",
     "output_type": "stream",
     "text": [
      "Args:  Namespace(config='config/default_config.yaml', gpu=2, batch_size=12, num_workers=16, epochs=20, learning_rate=5.899071161042893e-05, local_rank=0, debug=False, temperature=0.14617767266819895, data_filename='data/reports/reports_sampled_no_conclusion.csv', root='.', target_label='Report', datapoint_loc_label='FileName', frames=16, stride=2, random_augment=True, model_name='mvit', pretrained=True, dropout=0.014812317222090754, video_freeze_ratio=0.0, text_freeze_ratio=0.0, optimizer='RAdam', weight_decay=1e-06, scheduler_type='step', lr_step_period=15, factor=0.3, use_amp=True, patience=3, project='deepCORO_CLIP', entity='mhi_ai', tag='DeepCORO_Clip_Sweep_Learnable_Temp_Full', output_dir='outputs', multi_video=True, n_video=5, scorn='StudyInstanceUID', aggregate_function='mean')\n"
     ]
    },
    {
     "name": "stderr",
     "output_type": "stream",
     "text": [
      "wandb: WARNING Ignoring project 'deepCORO_CLIP' when running a sweep.\n",
      "wandb: WARNING Ignoring entity 'mhi_ai' when running a sweep.\n"
     ]
    },
    {
     "name": "stdout",
     "output_type": "stream",
     "text": [
      "\n",
      "=== Calculating Dataset Statistics ===\n",
      "Stats dataset length: 128\n",
      "\n",
      "Using 100 samples for statistics calculation\n",
      "Frame count per video: 16\n"
     ]
    },
    {
     "name": "stderr",
     "output_type": "stream",
     "text": [
      "Calculating statistics: 100%|██████████| 9/9 [00:06<00:00,  1.34it/s]\n"
     ]
    },
    {
     "name": "stdout",
     "output_type": "stream",
     "text": [
      "\n",
      "Dataset Statistics:\n",
      "Mean: [102.05670166015625, 102.05670166015625, 102.05670166015625]\n",
      "Std:  [39.18327713012695, 39.18327713012695, 39.18327713012695]\n",
      "Calculated from 100 samples (80,281,600 pixels)\n",
      "===========================\n",
      "\n",
      "Using MultiVideoDataset\n",
      "[MultiVideoDataset] Found 31286 studies in split='train'\n",
      "[MultiVideoDataset] Found 3463 studies in split='val'\n",
      "\n",
      "=== Dataset Information ===\n",
      "Training:   31,286 (studies if multi-video)\n",
      "Validation: 3,463 (studies if multi-video)\n",
      "Total:      34,749\n",
      "\n",
      "Batch Size: 12\n",
      "Training Batches: 2,607\n",
      "Validation Batches: 289\n",
      "===========================\n",
      "\n",
      "Saved 2491 unique val texts to outputs/deepCORO_CLIP/DeepCORO_Clip_Sweep_Learnable_Temp_Full_mvit_b12_f16_RAdam_lr5.899071161042893e-05_20250104-201129_u5x8nym4/unique_val_texts.csv\n",
      "\n",
      "Epoch 1/20\n"
     ]
    },
    {
     "name": "stderr",
     "output_type": "stream",
     "text": [
      "Training Epoch 0: 100%|██████████| 2607/2607 [1:42:56<00:00,  2.37s/it, train_loss=2.6166, avg_train_loss=2.3866]  \n"
     ]
    },
    {
     "name": "stdout",
     "output_type": "stream",
     "text": [
      "[Train] Epoch=0, Loss=2.3866\n"
     ]
    },
    {
     "name": "stderr",
     "output_type": "stream",
     "text": [
      "Validation Epoch 0: 100%|██████████| 289/289 [12:31<00:00,  2.60s/it]\n"
     ]
    },
    {
     "name": "stdout",
     "output_type": "stream",
     "text": [
      "[Val] Epoch=0, Loss=2.3038\n",
      "Saved checkpoint to outputs/deepCORO_CLIP/DeepCORO_Clip_Sweep_Learnable_Temp_Full_mvit_b12_f16_RAdam_lr5.899071161042893e-05_20250104-201129_u5x8nym4/checkpoints/latest.pt\n",
      "\n",
      "Saved latest checkpoint at epoch 1\n",
      "Saved checkpoint to outputs/deepCORO_CLIP/DeepCORO_Clip_Sweep_Learnable_Temp_Full_mvit_b12_f16_RAdam_lr5.899071161042893e-05_20250104-201129_u5x8nym4/checkpoints/best.pt\n",
      "\n",
      "New best model saved! Val Loss (val-only): 2.3038 (previous: inf)\n",
      "\n",
      "Epoch 2/20\n"
     ]
    },
    {
     "name": "stderr",
     "output_type": "stream",
     "text": [
      "Training Epoch 1:   9%|▊         | 223/2607 [09:15<48:41,  1.23s/it, train_loss=2.2353, avg_train_loss=2.3300]  "
     ]
    }
   ],
   "source": [
    "import yaml\n",
    "\n",
    "import wandb\n",
    "\n",
    "\n",
    "def load_yaml_config(file_path):\n",
    "    with open(file_path) as file:\n",
    "        return yaml.safe_load(file)\n",
    "\n",
    "\n",
    "sweep_conf_file_path = \"config/sweep_config.yaml\"\n",
    "sweep_conf = load_yaml_config(sweep_conf_file_path)\n",
    "count = 25  # number of runs to execute\n",
    "\n",
    "sweep_id = wandb.sweep(sweep_conf, project=sweep_conf[\"name\"], entity=\"mhi_ai\")\n",
    "\n",
    "wandb.agent(sweep_id=sweep_id, entity=\"mhi_ai\", project=sweep_conf[\"name\"], count=count)"
   ]
  },
  {
   "cell_type": "code",
   "execution_count": null,
   "metadata": {},
   "outputs": [],
   "source": [
    "import pandas as pd\n",
    "from utils.logging import cleanup_temp_video, convert_video_for_wandb\n",
    "\n",
    "# Read the CSV file containing sampled reports\n",
    "reports_df = pd.read_csv(\"data/reports/reports_sampled_no_conclusion_1000.csv\", sep=\"α\")\n",
    "print(f\"Loaded {len(reports_df)} reports\")\n"
   ]
  },
  {
   "cell_type": "code",
   "execution_count": 1,
   "metadata": {},
   "outputs": [
    {
     "ename": "NameError",
     "evalue": "name 'reports_df' is not defined",
     "output_type": "error",
     "traceback": [
      "\u001b[0;31m---------------------------------------------------------------------------\u001b[0m",
      "\u001b[0;31mNameError\u001b[0m                                 Traceback (most recent call last)",
      "Cell \u001b[0;32mIn[1], line 1\u001b[0m\n\u001b[0;32m----> 1\u001b[0m display(\u001b[43mreports_df\u001b[49m\u001b[38;5;241m.\u001b[39mFileName)\n",
      "\u001b[0;31mNameError\u001b[0m: name 'reports_df' is not defined"
     ]
    }
   ],
   "source": [
    "display(reports_df.FileName)"
   ]
  },
  {
   "cell_type": "code",
   "execution_count": null,
   "metadata": {},
   "outputs": [],
   "source": [
    "# Get first video path\n",
    "video_path = reports_df.FileName.iloc[0]\n",
    "\n",
    "# Convert video to wandb format\n",
    "mp4_path, is_temp = convert_video_for_wandb(video_path)\n",
    "\n",
    "print(f\"Converted video path: {mp4_path}\")\n",
    "print(f\"Is temporary file: {is_temp}\")\n",
    "\n",
    "# Clean up temp file if needed\n",
    "if is_temp:\n",
    "    cleanup_temp_video(mp4_path)\n"
   ]
  },
  {
   "cell_type": "code",
   "execution_count": null,
   "metadata": {},
   "outputs": [],
   "source": [
    "!ffmpeg -version"
   ]
  },
  {
   "cell_type": "code",
   "execution_count": null,
   "metadata": {},
   "outputs": [],
   "source": []
  }
 ],
 "metadata": {
  "kernelspec": {
   "display_name": "Python [conda env:pytorch] *",
   "language": "python",
   "name": "conda-env-pytorch-py"
  },
  "language_info": {
   "codemirror_mode": {
    "name": "ipython",
    "version": 3
   },
   "file_extension": ".py",
   "mimetype": "text/x-python",
   "name": "python",
   "nbconvert_exporter": "python",
   "pygments_lexer": "ipython3",
   "version": "3.11.6"
  }
 },
 "nbformat": 4,
 "nbformat_minor": 4
}
