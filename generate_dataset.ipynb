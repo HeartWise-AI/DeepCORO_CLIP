{
 "cells": [
  {
   "cell_type": "code",
   "execution_count": 1,
   "metadata": {},
   "outputs": [
    {
     "name": "stderr",
     "output_type": "stream",
     "text": [
      "/tmp/ipykernel_27238/441343652.py:9: DeprecationWarning: Importing display from IPython.core.display is deprecated since IPython 7.14, please import from IPython display\n",
      "  from IPython.core.display import HTML, display\n"
     ]
    },
    {
     "data": {
      "text/html": [
       "<style>.container { width:100% !important; }</style>"
      ],
      "text/plain": [
       "<IPython.core.display.HTML object>"
      ]
     },
     "metadata": {},
     "output_type": "display_data"
    }
   ],
   "source": [
    "import numpy as np\n",
    "import pandas as pd\n",
    "\n",
    "# pd.set_option('display.height', 1000)\n",
    "pd.set_option(\"display.max_rows\", None)\n",
    "pd.set_option(\"display.max_columns\", None)\n",
    "pd.set_option(\"display.width\", None)\n",
    "pd.set_option(\"max_colwidth\", None)\n",
    "from IPython.core.display import HTML, display\n",
    "\n",
    "display(HTML(\"<style>.container { width:100% !important; }</style>\"))\n",
    "\n",
    "\n",
    "def df_stats(df):\n",
    "    from tabulate import tabulate\n",
    "\n",
    "    while True:\n",
    "        print(\"\\n***** Shape: \", df.shape, \" *****\\n\")\n",
    "\n",
    "        columns_list = df.columns.values.tolist()\n",
    "        isnull_list = df.isnull().sum().values.tolist()\n",
    "        isunique_list = df.nunique().values.tolist()\n",
    "        dtypes_list = df.dtypes.tolist()\n",
    "\n",
    "        list_stat_val = list(zip(columns_list, isnull_list, isunique_list, dtypes_list))\n",
    "        df_stat_val = pd.DataFrame(list_stat_val, columns=[\"Name\", \"Null\", \"Unique\", \"Dtypes\"])\n",
    "        print(tabulate(df_stat_val, headers=\"keys\", tablefmt=\"psql\"))\n",
    "    return df.head()"
   ]
  },
  {
   "cell_type": "code",
   "execution_count": 2,
   "metadata": {},
   "outputs": [
    {
     "name": "stderr",
     "output_type": "stream",
     "text": [
      "/tmp/ipykernel_74087/696543681.py:3: DtypeWarning: Columns (5,6,11,24,28,34,35,39,44,46,47,50,104,105,106,107,108,109,110,111,112,113,114,115,116,117,118,119,120,121,122,123,124,125,126,127,249,250,253,254) have mixed types. Specify dtype option on import or set low_memory=False.\n",
      "  df_predictions = pd.read_csv(csv_file_path)\n"
     ]
    }
   ],
   "source": [
    "# Load the specified CSV file\n",
    "csv_file_path = \"/media/data1/ravram/DeepCORO/processed_dataframes/ObjectRecon_SWIN3D_2016-2023_inference_predictions_with_df_metadata_and_report.csv\"\n",
    "df_predictions = pd.read_csv(csv_file_path)"
   ]
  },
  {
   "cell_type": "code",
   "execution_count": 3,
   "metadata": {},
   "outputs": [
    {
     "name": "stderr",
     "output_type": "stream",
     "text": [
      "Generating Reports: 100%|██████████| 925207/925207 [01:04<00:00, 14267.92it/s]\n"
     ]
    }
   ],
   "source": [
    "import pandas as pd\n",
    "from tqdm import tqdm\n",
    "\n",
    "# Filtered labels to vessel names mapping\n",
    "labels_to_vessel_names = {\n",
    "    \"lad_stenosis\": \"the proximal segment of the Left Anterior Descending (LAD) artery\",\n",
    "    \"dist_lad_stenosis\": \"the distal segment of the Left Anterior Descending (LAD) artery\",\n",
    "    \"mid_lad_stenosis\": \"the mid segment of the Left Anterior Descending (LAD) artery\",\n",
    "    \"lcx_stenosis\": \"the proximal branch of the Left Circumflex (LCX) artery\",\n",
    "    \"dist_lcx_stenosis\": \"the distal branch of the Left Circumflex (LCX) artery\",\n",
    "    \"leftmain_stenosis\": \"the Left Main Coronary Artery (LMCA)\",\n",
    "    \"prox_rca_stenosis\": \"the proximal Right Coronary Artery (RCA)\",\n",
    "    \"mid_rca_stenosis\": \"the mid portion of the Right Coronary Artery (RCA)\",\n",
    "    \"dist_rca_stenosis\": \"the distal portion of the Right Coronary Artery (RCA)\",\n",
    "    \"posterolateral_stenosis\": \"the posterolateral branch\",\n",
    "    \"pda_stenosis\": \"the posterior descending artery (PDA)\",\n",
    "}\n",
    "\n",
    "\n",
    "def format_stenosis_statement(vessel_name, percentage):\n",
    "    \"\"\"\n",
    "    Create a more narrative, natural language statement for a given vessel stenosis percentage.\n",
    "    \"\"\"\n",
    "    if percentage == 0:\n",
    "        return f\"{vessel_name} appears free of significant stenosis (0%).\"\n",
    "    elif 0 < percentage < 50:\n",
    "        return f\"{vessel_name} shows mild stenosis (~{percentage}%).\"\n",
    "    elif 50 <= percentage < 70:\n",
    "        return f\"{vessel_name} shows moderate stenosis (~{percentage}%).\"\n",
    "    elif 70 <= percentage < 90:\n",
    "        return f\"{vessel_name} shows severe stenosis (~{percentage}%).\"\n",
    "    else:\n",
    "        return f\"{vessel_name} shows critical stenosis (~{percentage}%).\"\n",
    "\n",
    "\n",
    "def create_report(row):\n",
    "    # Collect narrative sentences for each vessel\n",
    "    vessel_statements = []\n",
    "\n",
    "    for label, vessel_name in labels_to_vessel_names.items():\n",
    "        if label in row:\n",
    "            percentage = row[label]\n",
    "            if pd.notna(percentage) and percentage != -1:\n",
    "                # Add a narrative statement for this vessel\n",
    "                statement = format_stenosis_statement(vessel_name, percentage)\n",
    "                vessel_statements.append(statement)\n",
    "\n",
    "    # Add coronary dominance if available\n",
    "    dominance_statement = \"\"\n",
    "    if \"coronary_dominance\" in row and pd.notna(row[\"coronary_dominance\"]):\n",
    "        # Make the dominance part more natural\n",
    "        dominance = row[\"coronary_dominance\"]\n",
    "        dominance_statement = f\"The coronary circulation is {dominance.replace('_', ' ')}.\"\n",
    "\n",
    "    # Construct the final report\n",
    "    # Start with a general introduction\n",
    "    report_lines = []\n",
    "    if vessel_statements:\n",
    "        report_lines.append(\"Angiographic assessment reveals the following findings:\")\n",
    "        report_lines.extend(vessel_statements)\n",
    "    else:\n",
    "        report_lines.append(\"No significant stenosis was noted in the evaluated vessels.\")\n",
    "\n",
    "    if dominance_statement:\n",
    "        report_lines.append(dominance_statement)\n",
    "\n",
    "    report = \" \".join(report_lines)\n",
    "    return report\n",
    "\n",
    "\n",
    "# Apply the function to create the 'Report' column with a progress bar\n",
    "tqdm.pandas(desc=\"Generating Reports\")\n",
    "df_predictions[\"Report\"] = df_predictions.progress_apply(create_report, axis=1)"
   ]
  },
  {
   "cell_type": "code",
   "execution_count": 4,
   "metadata": {},
   "outputs": [],
   "source": [
    "import os\n",
    "\n",
    "output_file_path = \"data/reports/reports_with_alpha_separator_no_conclusion.csv\"\n",
    "output_dir = os.path.dirname(output_file_path)\n",
    "\n",
    "# Check if the directory exists, if not create it\n",
    "if not os.path.exists(output_dir):\n",
    "    os.makedirs(output_dir)\n",
    "# Drop rows where 'External_Exam' is True\n",
    "df_predictions = df_predictions[df_predictions[\"External_Exam\"] != True]\n",
    "\n",
    "df_non_nan_reports = df_predictions.dropna(subset=[\"Report\"])\n",
    "# Filter the dataframe to keep only rows where 'object_value' is 5 or 9\n",
    "df_non_nan_reports = df_non_nan_reports[df_non_nan_reports[\"object_value\"].isin([5, 9])]\n",
    "df_non_nan_reports.to_csv(output_file_path, sep=\"α\", index=False, header=True)"
   ]
  },
  {
   "cell_type": "code",
   "execution_count": 5,
   "metadata": {},
   "outputs": [
    {
     "name": "stderr",
     "output_type": "stream",
     "text": [
      "/tmp/ipykernel_74087/1749621694.py:2: ParserWarning: Falling back to the 'python' engine because the separator encoded in utf-8 is > 1 char long, and the 'c' engine does not support such separators; you can avoid this warning by specifying engine='python'.\n",
      "  df_non_nan_reports = pd.read_csv(output_file_path, sep=\"α\")\n"
     ]
    }
   ],
   "source": [
    "output_file_path = \"data/reports/reports_with_alpha_separator_no_conclusion.csv\"\n",
    "df_non_nan_reports = pd.read_csv(output_file_path, sep=\"α\")"
   ]
  },
  {
   "cell_type": "code",
   "execution_count": 6,
   "metadata": {},
   "outputs": [
    {
     "data": {
      "text/plain": [
       "Split\n",
       "train    311970\n",
       "val       35529\n",
       "Name: count, dtype: int64"
      ]
     },
     "metadata": {},
     "output_type": "display_data"
    }
   ],
   "source": [
    "# Split 70% of patients for train and 30% for validation\n",
    "unique_patients = df_non_nan_reports[\"CathReport_MRN\"].drop_duplicates()\n",
    "train_size = int(0.9 * len(unique_patients))\n",
    "train_patients = unique_patients.sample(n=train_size, random_state=42)\n",
    "val_patients = unique_patients.drop(train_patients.index)\n",
    "\n",
    "# Keep only the sampled patients in the dataframe\n",
    "df_sampled = df_non_nan_reports[\n",
    "    df_non_nan_reports[\"CathReport_MRN\"].isin(train_patients)\n",
    "    | df_non_nan_reports[\"CathReport_MRN\"].isin(val_patients)\n",
    "]\n",
    "\n",
    "# Assign split based on CathReport_MRN\n",
    "df_sampled.loc[df_sampled[\"CathReport_MRN\"].isin(train_patients), \"Split\"] = \"train\"\n",
    "df_sampled.loc[df_sampled[\"CathReport_MRN\"].isin(val_patients), \"Split\"] = \"val\"\n",
    "\n",
    "#df_sampled = df_sampled.sample(40000).reset_index()\n",
    "# Save the dataframe with split information to a new CSV file\n",
    "output_sampled_file_path = \"data/reports/reports_sampled_no_conclusion.csv\"\n",
    "df_sampled.to_csv(output_sampled_file_path, sep=\"α\", index=False)\n",
    "\n",
    "display(df_sampled.Split.value_counts())"
   ]
  },
  {
   "cell_type": "code",
   "execution_count": 2,
   "metadata": {},
   "outputs": [
    {
     "name": "stderr",
     "output_type": "stream",
     "text": [
      "/tmp/ipykernel_27238/2507830162.py:1: ParserWarning: Falling back to the 'python' engine because the separator encoded in utf-8 is > 1 char long, and the 'c' engine does not support such separators; you can avoid this warning by specifying engine='python'.\n",
      "  output_sampled_file_path = pd.read_csv(\n"
     ]
    }
   ],
   "source": [
    "output_sampled_file_path = pd.read_csv(\n",
    "    \"data/reports/reports_sampled_no_conclusion.csv\", sep=\"α\"\n",
    ")\n",
    "df_sampled = output_sampled_file_path.sample(1000).reset_index()\n",
    "# Save the dataframe with split information to a new CSV file\n",
    "output_sampled_file_path = \"data/reports/reports_sampled_no_conclusion_1000.csv\"\n",
    "df_sampled.to_csv(output_sampled_file_path, sep=\"α\", index=False)"
   ]
  },
  {
   "cell_type": "code",
   "execution_count": 3,
   "metadata": {},
   "outputs": [
    {
     "data": {
      "text/plain": [
       "Split\n",
       "train    888\n",
       "val      112\n",
       "Name: count, dtype: int64"
      ]
     },
     "metadata": {},
     "output_type": "display_data"
    }
   ],
   "source": [
    "display(df_sampled.Split.value_counts())"
   ]
  },
  {
   "cell_type": "code",
   "execution_count": null,
   "metadata": {},
   "outputs": [],
   "source": []
  }
 ],
 "metadata": {
  "kernelspec": {
   "display_name": "pytorch",
   "language": "python",
   "name": "python3"
  },
  "language_info": {
   "codemirror_mode": {
    "name": "ipython",
    "version": 3
   },
   "file_extension": ".py",
   "mimetype": "text/x-python",
   "name": "python",
   "nbconvert_exporter": "python",
   "pygments_lexer": "ipython3",
   "version": "3.11.6"
  }
 },
 "nbformat": 4,
 "nbformat_minor": 4
}
