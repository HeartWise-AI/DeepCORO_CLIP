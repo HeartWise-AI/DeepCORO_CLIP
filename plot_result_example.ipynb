{
 "cells": [
  {
   "cell_type": "code",
   "execution_count": 1,
   "metadata": {},
   "outputs": [
    {
     "name": "stderr",
     "output_type": "stream",
     "text": [
      "/tmp/ipykernel_56001/1374276192.py:9: DeprecationWarning: Importing display from IPython.core.display is deprecated since IPython 7.14, please import from IPython display\n",
      "  from IPython.core.display import HTML, display\n"
     ]
    },
    {
     "data": {
      "text/html": [
       "<style>.container { width:100% !important; }</style>"
      ],
      "text/plain": [
       "<IPython.core.display.HTML object>"
      ]
     },
     "metadata": {},
     "output_type": "display_data"
    }
   ],
   "source": [
    "import numpy as np\n",
    "import pandas as pd\n",
    "\n",
    "# pd.set_option('display.height', 1000)\n",
    "pd.set_option(\"display.max_rows\", 500)\n",
    "pd.set_option(\"display.max_columns\", 500)\n",
    "pd.set_option(\"display.width\", 1000)\n",
    "pd.set_option(\"max_colwidth\", 200)\n",
    "from IPython.core.display import HTML, display\n",
    "\n",
    "display(HTML(\"<style>.container { width:100% !important; }</style>\"))\n",
    "\n",
    "\n",
    "def df_stats(df):\n",
    "    from tabulate import tabulate\n",
    "\n",
    "    print(\"\\n***** Shape: \", df.shape, \" *****\\n\")\n",
    "\n",
    "    columns_list = df.columns.values.tolist()\n",
    "    isnull_list = df.isnull().sum().values.tolist()\n",
    "    isunique_list = df.nunique().values.tolist()\n",
    "    dtypes_list = df.dtypes.tolist()\n",
    "\n",
    "    list_stat_val = list(zip(columns_list, isnull_list, isunique_list, dtypes_list))\n",
    "    df_stat_val = pd.DataFrame(list_stat_val, columns=[\"Name\", \"Null\", \"Unique\", \"Dtypes\"])\n",
    "    print(tabulate(df_stat_val, headers=\"keys\", tablefmt=\"psql\"))\n",
    "    return df.head()"
   ]
  },
  {
   "cell_type": "code",
   "execution_count": null,
   "metadata": {},
   "outputs": [],
   "source": [
    "import pickle\n",
    "\n",
    "# Load the pickle file containing (all_reports, all_text_embeddings)\n",
    "with open(\"text_embeddings.pkl\", \"rb\") as f:\n",
    "    all_reports, all_text_embeddings = pickle.load(f)\n",
    "\n",
    "# Print the first 5 indices and their corresponding reports\n",
    "for i in range(5):\n",
    "    print(f\"Index {i}: {all_reports[i]}\")"
   ]
  },
  {
   "cell_type": "code",
   "execution_count": null,
   "metadata": {},
   "outputs": [],
   "source": [
    "print(len(all_reports))"
   ]
  },
  {
   "cell_type": "code",
   "execution_count": 5,
   "metadata": {},
   "outputs": [
    {
     "name": "stderr",
     "output_type": "stream",
     "text": [
      "/tmp/ipykernel_56001/2153714562.py:4: ParserWarning: Falling back to the 'python' engine because the separator encoded in utf-8 is > 1 char long, and the 'c' engine does not support such separators; you can avoid this warning by specifying engine='python'.\n",
      "  reports_sampled_df = pd.read_csv(\"data/reports/reports_sampled_no_conclusion.csv\", sep='α')\n"
     ]
    }
   ],
   "source": [
    "# Load the CSV file into a DataFrame\n",
    "val_epoch10_df = pd.read_csv(\"outputs/deepCORO_CLIP/DeepCORO_Clip_Sweep_Learnable_Temp_Full_mvit_b12_f16_RAdam_lr1.1973658238534876e-05_20250103-093613_evid9bon/val_epoch10.csv\")\n",
    "# Load the CSV file with alpha character separator into a DataFrame\n",
    "reports_sampled_df = pd.read_csv(\"data/reports/reports_sampled_no_conclusion.csv\", sep='α')\n"
   ]
  },
  {
   "cell_type": "code",
   "execution_count": null,
   "metadata": {},
   "outputs": [],
   "source": [
    "### Stenting procedure"
   ]
  },
  {
   "cell_type": "code",
   "execution_count": 7,
   "metadata": {},
   "outputs": [
    {
     "name": "stdout",
     "output_type": "stream",
     "text": [
      "   index  Unnamed: 0.1  Unnamed: 0                                                                                                                                               filename                                                                                                                                                                       y_hat  object_value brand   sex  FPS  NumberOfFrames      date  study_time  series_time   birthdate color_format                                            StudyID                                StudyInstanceUID                                  SeriesInstanceUID                                                                                                                                                                    dicom_path                                                                                                                                               FileName  uint16_video  primary_angle  secondary_angle  width  \\\n",
      "0     41        109669      109669  /media/data1/ravram/MHI_CATH_DICOM_VIDEOS/2022/1.2.392.200036.9116.1467.20221111154531409.4.2_1.2.392.200036.9116.3358.20221111164604930.3.16.dcm.avi             [5.1520558e-08 2.0579816e-06 1.8372963e-07 3.4058093e-07 1.3760715e-07\\n 9.9996507e-01 5.6892095e-06 5.5707005e-08 6.8464124e-07 2.5624502e-06\\n 2.3187207e-05]             5   NaN  MALE  7.0            38.0  20221111    104531.0   114557.981  19580313.0  MONOCHROME2  '1.2.392.200036.9116.4902.20221111170151183.1.23'  1.2.392.200036.9116.1467.20221111154531409.4.2  '1.2.392.200036.9116.3358.20221111164604930.3.16'  /media/data1/ravram/DeepCORO/2022/176009637377020760237474927516736101693/1.2.392.200036.9116.1467.20221111154531409.4.2/1.2.392.200036.9116.3358.20221111164604930.3.16.dcm  /media/data1/ravram/MHI_CATH_DICOM_VIDEOS/2022/1.2.392.200036.9116.1467.20221111154531409.4.2_1.2.392.200036.9116.3358.20221111164604930.3.16.dcm.avi         False          -15.0            -24.0    512   \n",
      "1     42        109670      109670  /media/data1/ravram/MHI_CATH_DICOM_VIDEOS/2022/1.2.392.200036.9116.1467.20221111154531409.4.2_1.2.392.200036.9116.7464.20221111164631027.1.20.dcm.avi             [5.4200928e-08 8.3388585e-07 1.3922029e-07 5.9304841e-07 2.4867219e-07\\n 9.9990094e-01 3.9151355e-06 8.0732036e-08 7.7650833e-07 6.8771510e-06\\n 8.5475003e-05]             5   NaN  MALE  7.0            39.0  20221111    104531.0   114624.041  19580313.0  MONOCHROME2  '1.2.392.200036.9116.1153.20221111170158370.3.24'  1.2.392.200036.9116.1467.20221111154531409.4.2  '1.2.392.200036.9116.7464.20221111164631027.1.20'  /media/data1/ravram/DeepCORO/2022/176009637377020760237474927516736101693/1.2.392.200036.9116.1467.20221111154531409.4.2/1.2.392.200036.9116.7464.20221111164631027.1.20.dcm  /media/data1/ravram/MHI_CATH_DICOM_VIDEOS/2022/1.2.392.200036.9116.1467.20221111154531409.4.2_1.2.392.200036.9116.7464.20221111164631027.1.20.dcm.avi         False          -10.0             40.0    512   \n",
      "2     43        109671      109671  /media/data1/ravram/MHI_CATH_DICOM_VIDEOS/2022/1.2.392.200036.9116.1467.20221111154531409.4.2_1.2.392.200036.9116.2145.20221111164653336.1.24.dcm.avi             [7.0835654e-08 6.4452875e-06 5.3888922e-08 4.3561926e-07 7.7797736e-08\\n 9.9998713e-01 4.8644324e-07 1.4589239e-08 7.5847275e-08 2.2092886e-06\\n 2.9058281e-06]             5   NaN  MALE  7.0            43.0  20221111    104531.0   114645.552  19580313.0  MONOCHROME2  '1.2.392.200036.9116.1292.20221111170206059.3.25'  1.2.392.200036.9116.1467.20221111154531409.4.2  '1.2.392.200036.9116.2145.20221111164653336.1.24'  /media/data1/ravram/DeepCORO/2022/176009637377020760237474927516736101693/1.2.392.200036.9116.1467.20221111154531409.4.2/1.2.392.200036.9116.2145.20221111164653336.1.24.dcm  /media/data1/ravram/MHI_CATH_DICOM_VIDEOS/2022/1.2.392.200036.9116.1467.20221111154531409.4.2_1.2.392.200036.9116.2145.20221111164653336.1.24.dcm.avi         False           45.0             25.0    512   \n",
      "3     44        109667      109667   /media/data1/ravram/MHI_CATH_DICOM_VIDEOS/2022/1.2.392.200036.9116.1467.20221111154531409.4.2_1.2.392.200036.9116.9500.20221111164343658.9.8.dcm.avi             [1.0606808e-05 2.3773810e-02 7.1898830e-07 2.3926166e-05 1.4637877e-06\\n 2.5920932e-05 5.2919327e-06 3.2858356e-06 2.2017014e-06 9.7596651e-01\\n 1.8618307e-04]             9   NaN  MALE  7.0            49.0  20221111    104531.0   114335.215  19580313.0  MONOCHROME2  '1.2.392.200036.9116.6391.20221111170134566.2.21'  1.2.392.200036.9116.1467.20221111154531409.4.2   '1.2.392.200036.9116.9500.20221111164343658.9.8'   /media/data1/ravram/DeepCORO/2022/176009637377020760237474927516736101693/1.2.392.200036.9116.1467.20221111154531409.4.2/1.2.392.200036.9116.9500.20221111164343658.9.8.dcm   /media/data1/ravram/MHI_CATH_DICOM_VIDEOS/2022/1.2.392.200036.9116.1467.20221111154531409.4.2_1.2.392.200036.9116.9500.20221111164343658.9.8.dcm.avi         False           31.0              0.0    512   \n",
      "4     45        109668      109668  /media/data1/ravram/MHI_CATH_DICOM_VIDEOS/2022/1.2.392.200036.9116.1467.20221111154531409.4.2_1.2.392.200036.9116.7724.20221111164406742.2.12.dcm.avi  [9.43583018e-07 3.68236710e-04 1.14246255e-07 7.30322336e-06\\n 5.88177102e-07 1.46474427e-04 3.76065145e-07 1.36201777e-07\\n 6.75666683e-07 9.99465525e-01 9.71780992e-06]             9   NaN  MALE  7.0            47.0  20221111    104531.0   114358.606  19580313.0  MONOCHROME2  '1.2.392.200036.9116.6604.20221111170142914.3.22'  1.2.392.200036.9116.1467.20221111154531409.4.2  '1.2.392.200036.9116.7724.20221111164406742.2.12'  /media/data1/ravram/DeepCORO/2022/176009637377020760237474927516736101693/1.2.392.200036.9116.1467.20221111154531409.4.2/1.2.392.200036.9116.7724.20221111164406742.2.12.dcm  /media/data1/ravram/MHI_CATH_DICOM_VIDEOS/2022/1.2.392.200036.9116.1467.20221111154531409.4.2_1.2.392.200036.9116.7724.20221111164406742.2.12.dcm.avi         False           -2.0             19.0    512   \n",
      "\n",
      "   height         pixel_spacing  distance_source_to_detector  distance_source_to_patient  estimated_radiographic_magnification_factor table_motion radiation_setting   image_pixel_spacing Split  CathReport_MRN  EXAMEN_ID   Num Accession             date/heure                                                                                                                                                                     DICOMPath AccessionNumber ModalitiesInStudy  Patient_ID QueryRetrieveLevel  StudyDate  StudyTime  year                          patient_id_anon                                         dicom_id                                                                                                                                         Recommendation                                                                                                                                                                                               Conclusion  fps  frame_time  \\\n",
      "0     512  [0.193948, 0.193948]                       1000.0                    607.6728                                     1.645623       STATIC                GR  [0.319166, 0.319166]   val        615911.0   122006.0  HE202200864501  2022-11-11 11:13:00.0  /media/data1/ravram/DeepCORO/2022/176009637377020760237474927516736101693/1.2.392.200036.9116.1467.20221111154531409.4.2/1.2.392.200036.9116.3358.20221111164604930.3.16.dcm  HE202200864501                XA      615911              STUDY   20221111   104531.0  2022  176009637377020760237474927516736101693  1.2.392.200036.9116.3358.20221111164604930.3.16  Les critères de constriction ne sont pas tous présents.  Possibilité d?une étiologie mixte.  Scan thoracique ce\\njour.  NACO à vie, LDL moins de 2.0.  Importante hypertension artérielle pulmonaire post-capillaire. Baisse du débit cardiaque à 3,68 l/min (81 % de la théorique). Artères coronaires atheromateuses. Lésion peu sévère de l'artère inter...  7.0  133.333333   \n",
      "1     512  [0.186428, 0.186428]                       1100.0                    642.5217                                     1.712004       STATIC                GR  [0.319166, 0.319166]   val        615911.0   122006.0  HE202200864501  2022-11-11 11:13:00.0  /media/data1/ravram/DeepCORO/2022/176009637377020760237474927516736101693/1.2.392.200036.9116.1467.20221111154531409.4.2/1.2.392.200036.9116.7464.20221111164631027.1.20.dcm  HE202200864501                XA      615911              STUDY   20221111   104531.0  2022  176009637377020760237474927516736101693  1.2.392.200036.9116.7464.20221111164631027.1.20  Les critères de constriction ne sont pas tous présents.  Possibilité d?une étiologie mixte.  Scan thoracique ce\\njour.  NACO à vie, LDL moins de 2.0.  Importante hypertension artérielle pulmonaire post-capillaire. Baisse du débit cardiaque à 3,68 l/min (81 % de la théorique). Artères coronaires atheromateuses. Lésion peu sévère de l'artère inter...  7.0  133.333333   \n",
      "2     512  [0.197255, 0.197255]                       1120.0                    692.1979                                     1.618034       STATIC                GR  [0.319166, 0.319166]   val        615911.0   122006.0  HE202200864501  2022-11-11 11:13:00.0  /media/data1/ravram/DeepCORO/2022/176009637377020760237474927516736101693/1.2.392.200036.9116.1467.20221111154531409.4.2/1.2.392.200036.9116.2145.20221111164653336.1.24.dcm  HE202200864501                XA      615911              STUDY   20221111   104531.0  2022  176009637377020760237474927516736101693  1.2.392.200036.9116.2145.20221111164653336.1.24  Les critères de constriction ne sont pas tous présents.  Possibilité d?une étiologie mixte.  Scan thoracique ce\\njour.  NACO à vie, LDL moins de 2.0.  Importante hypertension artérielle pulmonaire post-capillaire. Baisse du débit cardiaque à 3,68 l/min (81 % de la théorique). Artères coronaires atheromateuses. Lésion peu sévère de l'artère inter...  7.0  133.333333   \n",
      "3     512  [0.206237, 0.206237]                        940.0                    607.4038                                     1.547570       STATIC                GR  [0.319166, 0.319166]   val        615911.0   122006.0  HE202200864501  2022-11-11 11:13:00.0   /media/data1/ravram/DeepCORO/2022/176009637377020760237474927516736101693/1.2.392.200036.9116.1467.20221111154531409.4.2/1.2.392.200036.9116.9500.20221111164343658.9.8.dcm  HE202200864501                XA      615911              STUDY   20221111   104531.0  2022  176009637377020760237474927516736101693   1.2.392.200036.9116.9500.20221111164343658.9.8  Les critères de constriction ne sont pas tous présents.  Possibilité d?une étiologie mixte.  Scan thoracique ce\\njour.  NACO à vie, LDL moins de 2.0.  Importante hypertension artérielle pulmonaire post-capillaire. Baisse du débit cardiaque à 3,68 l/min (81 % de la théorique). Artères coronaires atheromateuses. Lésion peu sévère de l'artère inter...  7.0  133.333333   \n",
      "4     512  [0.201221, 0.201221]                        960.0                    605.2412                                     1.586144       STATIC                GR  [0.319166, 0.319166]   val        615911.0   122006.0  HE202200864501  2022-11-11 11:13:00.0  /media/data1/ravram/DeepCORO/2022/176009637377020760237474927516736101693/1.2.392.200036.9116.1467.20221111154531409.4.2/1.2.392.200036.9116.7724.20221111164406742.2.12.dcm  HE202200864501                XA      615911              STUDY   20221111   104531.0  2022  176009637377020760237474927516736101693  1.2.392.200036.9116.7724.20221111164406742.2.12  Les critères de constriction ne sont pas tous présents.  Possibilité d?une étiologie mixte.  Scan thoracique ce\\njour.  NACO à vie, LDL moins de 2.0.  Importante hypertension artérielle pulmonaire post-capillaire. Baisse du débit cardiaque à 3,68 l/min (81 % de la théorique). Artères coronaires atheromateuses. Lésion peu sévère de l'artère inter...  7.0  133.333333   \n",
      "\n",
      "                series_description  External_Exam  angle_value  Unnamed: 0_y coronary_dominance_logit coronary_dominance  D2_stenosis  D3_stenosis  RVG1_stenosis  RVG2_stenosis  S1_stenosis  bx_stenosis  diagonal_stenosis  dist_lad_stenosis  dist_lcx_stenosis  dist_rca_stenosis  lad_stenosis  lcx_stenosis  leftmain_stenosis  lima_or_svg_stenosis  lvp_stenosis  marg_d_stenosis  mid_lad_stenosis  mid_rca_stenosis  om1_stenosis  om2_stenosis  om3_stenosis  pda_stenosis  posterolateral_stenosis  prox_rca_stenosis  D2_IFRHYPEREMIE  D3_IFRHYPEREMIE  RVG1_IFRHYPEREMIE  RVG2_IFRHYPEREMIE  S1_IFRHYPEREMIE  bx_IFRHYPEREMIE  diagonal_IFRHYPEREMIE  dist_lad_IFRHYPEREMIE  dist_lcx_IFRHYPEREMIE  dist_rca_IFRHYPEREMIE  lad_IFRHYPEREMIE  lcx_IFRHYPEREMIE  leftmain_IFRHYPEREMIE  lima_or_svg_IFRHYPEREMIE  lvp_IFRHYPEREMIE  marg_d_IFRHYPEREMIE  mid_lad_IFRHYPEREMIE  mid_rca_IFRHYPEREMIE  om1_IFRHYPEREMIE  om2_IFRHYPEREMIE  om3_IFRHYPEREMIE  pda_IFRHYPEREMIE  posterolateral_IFRHYPEREMIE  \\\n",
      "0  BILAN HEMODYNAMIQUE SANS EFFORT          False          6.0       85622.0               [2.74e-06]     right_dominant          0.0          0.0            0.0            0.0          0.0          0.0                0.0                0.0                0.0                0.0          20.0          20.0                0.0                   0.0           0.0              0.0               0.0               0.0           0.0           0.0           0.0           0.0                     20.0                0.0             -1.0             -1.0               -1.0               -1.0             -1.0             -1.0                   -1.0                   -1.0                   -1.0                   -1.0              -1.0              -1.0                   -1.0                      -1.0              -1.0                 -1.0                  -1.0                  -1.0              -1.0              -1.0              -1.0              -1.0                         -1.0   \n",
      "1  BILAN HEMODYNAMIQUE SANS EFFORT          False          1.0       85623.0               [1.85e-05]     right_dominant          0.0          0.0            0.0            0.0          0.0          0.0                0.0                0.0                0.0                0.0          20.0          20.0                0.0                   0.0           0.0              0.0               0.0               0.0           0.0           0.0           0.0           0.0                     20.0                0.0             -1.0             -1.0               -1.0               -1.0             -1.0             -1.0                   -1.0                   -1.0                   -1.0                   -1.0              -1.0              -1.0                   -1.0                      -1.0              -1.0                 -1.0                  -1.0                  -1.0              -1.0              -1.0              -1.0              -1.0                         -1.0   \n",
      "2  BILAN HEMODYNAMIQUE SANS EFFORT          False          2.0       85624.0              [0.0005093]     right_dominant          0.0          0.0            0.0            0.0          0.0          0.0                0.0                0.0                0.0                0.0          20.0          20.0                0.0                   0.0           0.0              0.0               0.0               0.0           0.0           0.0           0.0           0.0                     20.0                0.0             -1.0             -1.0               -1.0               -1.0             -1.0             -1.0                   -1.0                   -1.0                   -1.0                   -1.0              -1.0              -1.0                   -1.0                      -1.0              -1.0                 -1.0                  -1.0                  -1.0              -1.0              -1.0              -1.0              -1.0                         -1.0   \n",
      "3  BILAN HEMODYNAMIQUE SANS EFFORT          False          5.0       85620.0                 [3.e-05]     right_dominant          0.0          0.0            0.0            0.0          0.0          0.0                0.0                0.0                0.0                0.0          20.0          20.0                0.0                   0.0           0.0              0.0               0.0               0.0           0.0           0.0           0.0           0.0                     20.0                0.0             -1.0             -1.0               -1.0               -1.0             -1.0             -1.0                   -1.0                   -1.0                   -1.0                   -1.0              -1.0              -1.0                   -1.0                      -1.0              -1.0                 -1.0                  -1.0                  -1.0              -1.0              -1.0              -1.0              -1.0                         -1.0   \n",
      "4  BILAN HEMODYNAMIQUE SANS EFFORT          False          1.0       85621.0              [2.354e-05]     right_dominant          0.0          0.0            0.0            0.0          0.0          0.0                0.0                0.0                0.0                0.0          20.0          20.0                0.0                   0.0           0.0              0.0               0.0               0.0           0.0           0.0           0.0           0.0                     20.0                0.0             -1.0             -1.0               -1.0               -1.0             -1.0             -1.0                   -1.0                   -1.0                   -1.0                   -1.0              -1.0              -1.0                   -1.0                      -1.0              -1.0                 -1.0                  -1.0                  -1.0              -1.0              -1.0              -1.0              -1.0                         -1.0   \n",
      "\n",
      "   prox_rca_IFRHYPEREMIE D2_calcif D3_calcif RVG1_calcif RVG2_calcif S1_calcif bx_calcif diagonal_calcif dist_lad_calcif dist_lcx_calcif dist_rca_calcif lad_calcif lcx_calcif leftmain_calcif lima_or_svg_calcif lvp_calcif marg_d_calcif mid_lad_calcif mid_rca_calcif om1_calcif om2_calcif om3_calcif pda_calcif posterolateral_calcif prox_rca_calcif  D2_IFRBASAL  D3_IFRBASAL  RVG1_IFRBASAL  RVG2_IFRBASAL  S1_IFRBASAL  bx_IFRBASAL  diagonal_IFRBASAL  dist_lad_IFRBASAL  dist_lcx_IFRBASAL  dist_rca_IFRBASAL  lad_IFRBASAL  lcx_IFRBASAL  leftmain_IFRBASAL  lima_or_svg_IFRBASAL  lvp_IFRBASAL  marg_d_IFRBASAL  mid_lad_IFRBASAL  mid_rca_IFRBASAL  om1_IFRBASAL  om2_IFRBASAL  om3_IFRBASAL  pda_IFRBASAL  posterolateral_IFRBASAL  prox_rca_IFRBASAL  D2_CFRBASAL  D3_CFRBASAL  RVG1_CFRBASAL  RVG2_CFRBASAL  S1_CFRBASAL  bx_CFRBASAL  diagonal_CFRBASAL  dist_lad_CFRBASAL  dist_lcx_CFRBASAL  dist_rca_CFRBASAL  lad_CFRBASAL  lcx_CFRBASAL  leftmain_CFRBASAL  lima_or_svg_CFRBASAL  lvp_CFRBASAL  \\\n",
      "0                   -1.0        -1        -1          -1          -1        -1        -1              -1              -1              -1              -1         -1         -1              -1                 -1         -1            -1             -1             -1         -1         -1         -1         -1                    -1              -1         -1.0         -1.0           -1.0           -1.0         -1.0         -1.0               -1.0               -1.0               -1.0               -1.0          -1.0          -1.0               -1.0                  -1.0          -1.0             -1.0              -1.0              -1.0          -1.0          -1.0          -1.0          -1.0                     -1.0               -1.0         -1.0         -1.0           -1.0           -1.0         -1.0         -1.0               -1.0               -1.0               -1.0               -1.0          -1.0          -1.0               -1.0                  -1.0          -1.0   \n",
      "1                   -1.0        -1        -1          -1          -1        -1        -1              -1              -1              -1              -1         -1         -1              -1                 -1         -1            -1             -1             -1         -1         -1         -1         -1                    -1              -1         -1.0         -1.0           -1.0           -1.0         -1.0         -1.0               -1.0               -1.0               -1.0               -1.0          -1.0          -1.0               -1.0                  -1.0          -1.0             -1.0              -1.0              -1.0          -1.0          -1.0          -1.0          -1.0                     -1.0               -1.0         -1.0         -1.0           -1.0           -1.0         -1.0         -1.0               -1.0               -1.0               -1.0               -1.0          -1.0          -1.0               -1.0                  -1.0          -1.0   \n",
      "2                   -1.0        -1        -1          -1          -1        -1        -1              -1              -1              -1              -1         -1         -1              -1                 -1         -1            -1             -1             -1         -1         -1         -1         -1                    -1              -1         -1.0         -1.0           -1.0           -1.0         -1.0         -1.0               -1.0               -1.0               -1.0               -1.0          -1.0          -1.0               -1.0                  -1.0          -1.0             -1.0              -1.0              -1.0          -1.0          -1.0          -1.0          -1.0                     -1.0               -1.0         -1.0         -1.0           -1.0           -1.0         -1.0         -1.0               -1.0               -1.0               -1.0               -1.0          -1.0          -1.0               -1.0                  -1.0          -1.0   \n",
      "3                   -1.0        -1        -1          -1          -1        -1        -1              -1              -1              -1              -1         -1         -1              -1                 -1         -1            -1             -1             -1         -1         -1         -1         -1                    -1              -1         -1.0         -1.0           -1.0           -1.0         -1.0         -1.0               -1.0               -1.0               -1.0               -1.0          -1.0          -1.0               -1.0                  -1.0          -1.0             -1.0              -1.0              -1.0          -1.0          -1.0          -1.0          -1.0                     -1.0               -1.0         -1.0         -1.0           -1.0           -1.0         -1.0         -1.0               -1.0               -1.0               -1.0               -1.0          -1.0          -1.0               -1.0                  -1.0          -1.0   \n",
      "4                   -1.0        -1        -1          -1          -1        -1        -1              -1              -1              -1              -1         -1         -1              -1                 -1         -1            -1             -1             -1         -1         -1         -1         -1                    -1              -1         -1.0         -1.0           -1.0           -1.0         -1.0         -1.0               -1.0               -1.0               -1.0               -1.0          -1.0          -1.0               -1.0                  -1.0          -1.0             -1.0              -1.0              -1.0          -1.0          -1.0          -1.0          -1.0                     -1.0               -1.0         -1.0         -1.0           -1.0           -1.0         -1.0         -1.0               -1.0               -1.0               -1.0               -1.0          -1.0          -1.0               -1.0                  -1.0          -1.0   \n",
      "\n",
      "   marg_d_CFRBASAL  mid_lad_CFRBASAL  mid_rca_CFRBASAL  om1_CFRBASAL  om2_CFRBASAL  om3_CFRBASAL  pda_CFRBASAL  posterolateral_CFRBASAL  prox_rca_CFRBASAL  D2_CFRHYPEREMIE  D3_CFRHYPEREMIE  RVG1_CFRHYPEREMIE  RVG2_CFRHYPEREMIE  S1_CFRHYPEREMIE  bx_CFRHYPEREMIE  diagonal_CFRHYPEREMIE  dist_lad_CFRHYPEREMIE  dist_lcx_CFRHYPEREMIE  dist_rca_CFRHYPEREMIE  lad_CFRHYPEREMIE  lcx_CFRHYPEREMIE  leftmain_CFRHYPEREMIE  lima_or_svg_CFRHYPEREMIE  lvp_CFRHYPEREMIE  marg_d_CFRHYPEREMIE  mid_lad_CFRHYPEREMIE  mid_rca_CFRHYPEREMIE  om1_CFRHYPEREMIE  om2_CFRHYPEREMIE  om3_CFRHYPEREMIE  pda_CFRHYPEREMIE  posterolateral_CFRHYPEREMIE  prox_rca_CFRHYPEREMIE  D2_FFRHYPEREMIE  D3_FFRHYPEREMIE  RVG1_FFRHYPEREMIE  RVG2_FFRHYPEREMIE  S1_FFRHYPEREMIE  bx_FFRHYPEREMIE  diagonal_FFRHYPEREMIE  dist_lad_FFRHYPEREMIE  dist_lcx_FFRHYPEREMIE  dist_rca_FFRHYPEREMIE  lad_FFRHYPEREMIE  lcx_FFRHYPEREMIE  leftmain_FFRHYPEREMIE  lima_or_svg_FFRHYPEREMIE  lvp_FFRHYPEREMIE  marg_d_FFRHYPEREMIE  mid_lad_FFRHYPEREMIE  \\\n",
      "0             -1.0              -1.0              -1.0          -1.0          -1.0          -1.0          -1.0                     -1.0               -1.0             -1.0             -1.0               -1.0               -1.0             -1.0             -1.0                   -1.0                   -1.0                   -1.0                   -1.0              -1.0              -1.0                   -1.0                      -1.0              -1.0                 -1.0                  -1.0                  -1.0              -1.0              -1.0              -1.0              -1.0                         -1.0                   -1.0             -1.0             -1.0               -1.0               -1.0             -1.0             -1.0                   -1.0                   -1.0                   -1.0                   -1.0              -1.0              -1.0                   -1.0                      -1.0              -1.0                 -1.0                  -1.0   \n",
      "1             -1.0              -1.0              -1.0          -1.0          -1.0          -1.0          -1.0                     -1.0               -1.0             -1.0             -1.0               -1.0               -1.0             -1.0             -1.0                   -1.0                   -1.0                   -1.0                   -1.0              -1.0              -1.0                   -1.0                      -1.0              -1.0                 -1.0                  -1.0                  -1.0              -1.0              -1.0              -1.0              -1.0                         -1.0                   -1.0             -1.0             -1.0               -1.0               -1.0             -1.0             -1.0                   -1.0                   -1.0                   -1.0                   -1.0              -1.0              -1.0                   -1.0                      -1.0              -1.0                 -1.0                  -1.0   \n",
      "2             -1.0              -1.0              -1.0          -1.0          -1.0          -1.0          -1.0                     -1.0               -1.0             -1.0             -1.0               -1.0               -1.0             -1.0             -1.0                   -1.0                   -1.0                   -1.0                   -1.0              -1.0              -1.0                   -1.0                      -1.0              -1.0                 -1.0                  -1.0                  -1.0              -1.0              -1.0              -1.0              -1.0                         -1.0                   -1.0             -1.0             -1.0               -1.0               -1.0             -1.0             -1.0                   -1.0                   -1.0                   -1.0                   -1.0              -1.0              -1.0                   -1.0                      -1.0              -1.0                 -1.0                  -1.0   \n",
      "3             -1.0              -1.0              -1.0          -1.0          -1.0          -1.0          -1.0                     -1.0               -1.0             -1.0             -1.0               -1.0               -1.0             -1.0             -1.0                   -1.0                   -1.0                   -1.0                   -1.0              -1.0              -1.0                   -1.0                      -1.0              -1.0                 -1.0                  -1.0                  -1.0              -1.0              -1.0              -1.0              -1.0                         -1.0                   -1.0             -1.0             -1.0               -1.0               -1.0             -1.0             -1.0                   -1.0                   -1.0                   -1.0                   -1.0              -1.0              -1.0                   -1.0                      -1.0              -1.0                 -1.0                  -1.0   \n",
      "4             -1.0              -1.0              -1.0          -1.0          -1.0          -1.0          -1.0                     -1.0               -1.0             -1.0             -1.0               -1.0               -1.0             -1.0             -1.0                   -1.0                   -1.0                   -1.0                   -1.0              -1.0              -1.0                   -1.0                      -1.0              -1.0                 -1.0                  -1.0                  -1.0              -1.0              -1.0              -1.0              -1.0                         -1.0                   -1.0             -1.0             -1.0               -1.0               -1.0             -1.0             -1.0                   -1.0                   -1.0                   -1.0                   -1.0              -1.0              -1.0                   -1.0                      -1.0              -1.0                 -1.0                  -1.0   \n",
      "\n",
      "   mid_rca_FFRHYPEREMIE  om1_FFRHYPEREMIE  om2_FFRHYPEREMIE  om3_FFRHYPEREMIE  pda_FFRHYPEREMIE  posterolateral_FFRHYPEREMIE  prox_rca_FFRHYPEREMIE  D2_FFRBASAL  D3_FFRBASAL  RVG1_FFRBASAL  RVG2_FFRBASAL  S1_FFRBASAL  bx_FFRBASAL  diagonal_FFRBASAL  dist_lad_FFRBASAL  dist_lcx_FFRBASAL  dist_rca_FFRBASAL  lad_FFRBASAL  lcx_FFRBASAL  leftmain_FFRBASAL  lima_or_svg_FFRBASAL  lvp_FFRBASAL  marg_d_FFRBASAL  mid_lad_FFRBASAL  mid_rca_FFRBASAL  om1_FFRBASAL  om2_FFRBASAL  om3_FFRBASAL  pda_FFRBASAL  posterolateral_FFRBASAL  prox_rca_FFRBASAL  acute_coronary_occlusion pci_regions pontage  acute_inferior_mi    Examen G_INDICATIONS      ACS  insuffisance_cardiaque  cardiogenic_shock                                                                                                                                                                                                   Report  \n",
      "0                  -1.0              -1.0              -1.0              -1.0              -1.0                         -1.0                   -1.0         -1.0         -1.0           -1.0           -1.0         -1.0         -1.0               -1.0               -1.0               -1.0               -1.0          -1.0          -1.0               -1.0                  -1.0          -1.0             -1.0              -1.0              -1.0          -1.0          -1.0          -1.0          -1.0                     -1.0               -1.0                       0.0          []   False                0.0  122006.0   ['Dyspnée']  Non-ACS                     0.0                0.0  Angiographic assessment reveals the following findings: the proximal segment of the Left Anterior Descending (LAD) artery shows mild stenosis (~20.0%). the distal segment of the Left Anterior Desc...  \n",
      "1                  -1.0              -1.0              -1.0              -1.0              -1.0                         -1.0                   -1.0         -1.0         -1.0           -1.0           -1.0         -1.0         -1.0               -1.0               -1.0               -1.0               -1.0          -1.0          -1.0               -1.0                  -1.0          -1.0             -1.0              -1.0              -1.0          -1.0          -1.0          -1.0          -1.0                     -1.0               -1.0                       0.0          []   False                0.0  122006.0   ['Dyspnée']  Non-ACS                     0.0                0.0  Angiographic assessment reveals the following findings: the proximal segment of the Left Anterior Descending (LAD) artery shows mild stenosis (~20.0%). the distal segment of the Left Anterior Desc...  \n",
      "2                  -1.0              -1.0              -1.0              -1.0              -1.0                         -1.0                   -1.0         -1.0         -1.0           -1.0           -1.0         -1.0         -1.0               -1.0               -1.0               -1.0               -1.0          -1.0          -1.0               -1.0                  -1.0          -1.0             -1.0              -1.0              -1.0          -1.0          -1.0          -1.0          -1.0                     -1.0               -1.0                       0.0          []   False                0.0  122006.0   ['Dyspnée']  Non-ACS                     0.0                0.0  Angiographic assessment reveals the following findings: the proximal segment of the Left Anterior Descending (LAD) artery shows mild stenosis (~20.0%). the distal segment of the Left Anterior Desc...  \n",
      "3                  -1.0              -1.0              -1.0              -1.0              -1.0                         -1.0                   -1.0         -1.0         -1.0           -1.0           -1.0         -1.0         -1.0               -1.0               -1.0               -1.0               -1.0          -1.0          -1.0               -1.0                  -1.0          -1.0             -1.0              -1.0              -1.0          -1.0          -1.0          -1.0          -1.0                     -1.0               -1.0                       0.0          []   False                0.0  122006.0   ['Dyspnée']  Non-ACS                     0.0                0.0  Angiographic assessment reveals the following findings: the proximal segment of the Left Anterior Descending (LAD) artery shows mild stenosis (~20.0%). the distal segment of the Left Anterior Desc...  \n",
      "4                  -1.0              -1.0              -1.0              -1.0              -1.0                         -1.0                   -1.0         -1.0         -1.0           -1.0           -1.0         -1.0         -1.0               -1.0               -1.0               -1.0               -1.0          -1.0          -1.0               -1.0                  -1.0          -1.0             -1.0              -1.0              -1.0          -1.0          -1.0          -1.0          -1.0                     -1.0               -1.0                       0.0          []   False                0.0  122006.0   ['Dyspnée']  Non-ACS                     0.0                0.0  Angiographic assessment reveals the following findings: the proximal segment of the Left Anterior Descending (LAD) artery shows mild stenosis (~20.0%). the distal segment of the Left Anterior Desc...  \n"
     ]
    }
   ],
   "source": [
    "# Filter reports_sampled_df by Split == 'val'\n",
    "val_reports_sampled_df = reports_sampled_df[reports_sampled_df['Split'] == 'val'].reset_index()"
   ]
  },
  {
   "cell_type": "code",
   "execution_count": 19,
   "metadata": {},
   "outputs": [
    {
     "data": {
      "text/plain": [
       "3463"
      ]
     },
     "metadata": {},
     "output_type": "display_data"
    },
    {
     "data": {
      "text/plain": [
       "np.int64(3462)"
      ]
     },
     "metadata": {},
     "output_type": "display_data"
    },
    {
     "data": {
      "text/plain": [
       "np.int64(2488)"
      ]
     },
     "metadata": {},
     "output_type": "display_data"
    }
   ],
   "source": [
    "display(val_reports_sampled_df.StudyInstanceUID.nunique())\n",
    "display(val_epoch10_df.ground_truth_idx.max())\n",
    "display(val_epoch10_df.predicted_idx_4.max())"
   ]
  },
  {
   "cell_type": "code",
   "execution_count": null,
   "metadata": {},
   "outputs": [],
   "source": []
  }
 ],
 "metadata": {
  "kernelspec": {
   "display_name": "pytorch",
   "language": "python",
   "name": "python3"
  },
  "language_info": {
   "codemirror_mode": {
    "name": "ipython",
    "version": 3
   },
   "file_extension": ".py",
   "mimetype": "text/x-python",
   "name": "python",
   "nbconvert_exporter": "python",
   "pygments_lexer": "ipython3",
   "version": "3.11.6"
  }
 },
 "nbformat": 4,
 "nbformat_minor": 4
}
