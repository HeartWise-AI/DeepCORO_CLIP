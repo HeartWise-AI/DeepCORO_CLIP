{
 "cells": [
  {
   "cell_type": "code",
   "execution_count": null,
   "metadata": {},
   "outputs": [],
   "source": [
    "import yaml\n",
    "\n",
    "import wandb\n",
    "\n",
    "\n",
    "def load_yaml_config(file_path):\n",
    "    with open(file_path) as file:\n",
    "        return yaml.safe_load(file)\n",
    "\n",
    "\n",
    "sweep_conf_file_path = \"config/sweep_config.yaml\"\n",
    "sweep_conf = load_yaml_config(sweep_conf_file_path)\n",
    "count = 25  # number of runs to execute\n",
    "\n",
    "sweep_id = wandb.sweep(sweep_conf, project=sweep_conf[\"name\"], entity=\"mhi_ai\")\n",
    "\n",
    "wandb.agent(sweep_id=sweep_id, entity=\"mhi_ai\", project=sweep_conf[\"name\"], count=count)"
   ]
  },
  {
   "cell_type": "code",
   "execution_count": 1,
   "metadata": {},
   "outputs": [
    {
     "name": "stderr",
     "output_type": "stream",
     "text": [
      "/tmp/ipykernel_1144618/3012045764.py:1: DeprecationWarning: \n",
      "Pyarrow will become a required dependency of pandas in the next major release of pandas (pandas 3.0),\n",
      "(to allow more performant data types, such as the Arrow string type, and better interoperability with other libraries)\n",
      "but was not found to be installed on your system.\n",
      "If this would cause problems for you,\n",
      "please provide us feedback at https://github.com/pandas-dev/pandas/issues/54466\n",
      "        \n",
      "  import pandas as pd\n"
     ]
    },
    {
     "ename": "ModuleNotFoundError",
     "evalue": "No module named 'torch'",
     "output_type": "error",
     "traceback": [
      "\u001b[0;31m---------------------------------------------------------------------------\u001b[0m",
      "\u001b[0;31mModuleNotFoundError\u001b[0m                       Traceback (most recent call last)",
      "Cell \u001b[0;32mIn[1], line 2\u001b[0m\n\u001b[1;32m      1\u001b[0m \u001b[38;5;28;01mimport\u001b[39;00m \u001b[38;5;21;01mpandas\u001b[39;00m \u001b[38;5;28;01mas\u001b[39;00m \u001b[38;5;21;01mpd\u001b[39;00m\n\u001b[0;32m----> 2\u001b[0m \u001b[38;5;28;01mfrom\u001b[39;00m \u001b[38;5;21;01mutils\u001b[39;00m\u001b[38;5;21;01m.\u001b[39;00m\u001b[38;5;21;01mlogging\u001b[39;00m \u001b[38;5;28;01mimport\u001b[39;00m cleanup_temp_video, convert_video_for_wandb\n\u001b[1;32m      4\u001b[0m \u001b[38;5;66;03m# Read the CSV file containing sampled reports\u001b[39;00m\n\u001b[1;32m      5\u001b[0m reports_df \u001b[38;5;241m=\u001b[39m pd\u001b[38;5;241m.\u001b[39mread_csv(\u001b[38;5;124m\"\u001b[39m\u001b[38;5;124mdata/reports/reports_sampled_no_conclusion_1000.csv\u001b[39m\u001b[38;5;124m\"\u001b[39m, sep\u001b[38;5;241m=\u001b[39m\u001b[38;5;124m\"\u001b[39m\u001b[38;5;124mα\u001b[39m\u001b[38;5;124m\"\u001b[39m)\n",
      "File \u001b[0;32m/volume/DeepCORO_CLIP/utils/logging.py:8\u001b[0m\n\u001b[1;32m      5\u001b[0m \u001b[38;5;28;01mfrom\u001b[39;00m \u001b[38;5;21;01mdatetime\u001b[39;00m \u001b[38;5;28;01mimport\u001b[39;00m datetime\n\u001b[1;32m      6\u001b[0m \u001b[38;5;28;01mfrom\u001b[39;00m \u001b[38;5;21;01mtyping\u001b[39;00m \u001b[38;5;28;01mimport\u001b[39;00m Any, Dict, Optional\n\u001b[0;32m----> 8\u001b[0m \u001b[38;5;28;01mimport\u001b[39;00m \u001b[38;5;21;01mtorch\u001b[39;00m\n\u001b[1;32m     10\u001b[0m \u001b[38;5;28;01mimport\u001b[39;00m \u001b[38;5;21;01mwandb\u001b[39;00m\n\u001b[1;32m     13\u001b[0m \u001b[38;5;28;01mclass\u001b[39;00m \u001b[38;5;21;01mWandbLogger\u001b[39;00m:\n",
      "\u001b[0;31mModuleNotFoundError\u001b[0m: No module named 'torch'"
     ]
    }
   ],
   "source": [
    "import pandas as pd\n",
    "from utils.logging import cleanup_temp_video, convert_video_for_wandb\n",
    "\n",
    "# Read the CSV file containing sampled reports\n",
    "reports_df = pd.read_csv(\"data/reports/reports_sampled_no_conclusion_1000.csv\", sep=\"α\")\n",
    "print(f\"Loaded {len(reports_df)} reports\")\n"
   ]
  },
  {
   "cell_type": "code",
   "execution_count": 4,
   "metadata": {},
   "outputs": [
    {
     "data": {
      "text/plain": [
       "0      /media/data1/ravram/MHI_CATH_DICOM_VIDEOS/2023...\n",
       "1      /media/data1/ravram/MHI_CATH_DICOM_VIDEOS/2021...\n",
       "2      /media/data1/ravram/MHI_CATH_DICOM_VIDEOS/2018...\n",
       "3      /media/data1/ravram/MHI_CATH_DICOM_VIDEOS/2020...\n",
       "4      /media/data1/ravram/MHI_CATH_DICOM_VIDEOS/2019...\n",
       "                             ...                        \n",
       "995    /media/data1/ravram/MHI_CATH_DICOM_VIDEOS/2023...\n",
       "996    /media/data1/ravram/MHI_CATH_DICOM_VIDEOS/2018...\n",
       "997    /media/data1/ravram/MHI_CATH_DICOM_VIDEOS/2020...\n",
       "998    /media/data1/ravram/MHI_CATH_DICOM_VIDEOS/2020...\n",
       "999    /media/data1/ravram/MHI_CATH_DICOM_VIDEOS/2017...\n",
       "Name: FileName, Length: 1000, dtype: object"
      ]
     },
     "metadata": {},
     "output_type": "display_data"
    }
   ],
   "source": [
    "display(reports_df.FileName)"
   ]
  },
  {
   "cell_type": "code",
   "execution_count": 5,
   "metadata": {},
   "outputs": [
    {
     "name": "stdout",
     "output_type": "stream",
     "text": [
      "Converted video path: /tmp/tmps8wbtpif.mp4\n",
      "Is temporary file: True\n"
     ]
    }
   ],
   "source": [
    "# Get first video path\n",
    "video_path = reports_df.FileName.iloc[0]\n",
    "\n",
    "# Convert video to wandb format\n",
    "mp4_path, is_temp = convert_video_for_wandb(video_path)\n",
    "\n",
    "print(f\"Converted video path: {mp4_path}\")\n",
    "print(f\"Is temporary file: {is_temp}\")\n",
    "\n",
    "# Clean up temp file if needed\n",
    "if is_temp:\n",
    "    cleanup_temp_video(mp4_path)\n"
   ]
  },
  {
   "cell_type": "code",
   "execution_count": 1,
   "metadata": {},
   "outputs": [
    {
     "name": "stdout",
     "output_type": "stream",
     "text": [
      "ffmpeg version 5.1.2 Copyright (c) 2000-2022 the FFmpeg developers\n",
      "built with gcc 11.3.0 (conda-forge gcc 11.3.0-19)\n",
      "configuration: --prefix=/home/conda/feedstock_root/build_artifacts/ffmpeg_1674566204550/_h_env_placehold_placehold_placehold_placehold_placehold_placehold_placehold_placehold_placehold_placehold_placehold_placehold_placehold_placehold_placehold_placehold_placehold_placehold_plac --cc=/home/conda/feedstock_root/build_artifacts/ffmpeg_1674566204550/_build_env/bin/x86_64-conda-linux-gnu-cc --cxx=/home/conda/feedstock_root/build_artifacts/ffmpeg_1674566204550/_build_env/bin/x86_64-conda-linux-gnu-c++ --nm=/home/conda/feedstock_root/build_artifacts/ffmpeg_1674566204550/_build_env/bin/x86_64-conda-linux-gnu-nm --ar=/home/conda/feedstock_root/build_artifacts/ffmpeg_1674566204550/_build_env/bin/x86_64-conda-linux-gnu-ar --disable-doc --disable-openssl --enable-demuxer=dash --enable-hardcoded-tables --enable-libfreetype --enable-libfontconfig --enable-libopenh264 --enable-gnutls --enable-libmp3lame --enable-libvpx --enable-pthreads --enable-vaapi --enable-gpl --enable-libx264 --enable-libx265 --enable-libaom --enable-libsvtav1 --enable-libxml2 --enable-pic --enable-shared --disable-static --enable-version3 --enable-zlib --enable-libopus --pkg-config=/home/conda/feedstock_root/build_artifacts/ffmpeg_1674566204550/_build_env/bin/pkg-config\n",
      "libavutil      57. 28.100 / 57. 28.100\n",
      "libavcodec     59. 37.100 / 59. 37.100\n",
      "libavformat    59. 27.100 / 59. 27.100\n",
      "libavdevice    59.  7.100 / 59.  7.100\n",
      "libavfilter     8. 44.100 /  8. 44.100\n",
      "libswscale      6.  7.100 /  6.  7.100\n",
      "libswresample   4.  7.100 /  4.  7.100\n",
      "libpostproc    56.  6.100 / 56.  6.100\n"
     ]
    }
   ],
   "source": [
    "!ffmpeg -version"
   ]
  },
  {
   "cell_type": "code",
   "execution_count": null,
   "metadata": {},
   "outputs": [],
   "source": []
  }
 ],
 "metadata": {
  "kernelspec": {
   "display_name": "Python [conda env:pytorch]",
   "language": "python",
   "name": "conda-env-pytorch-py"
  },
  "language_info": {
   "codemirror_mode": {
    "name": "ipython",
    "version": 3
   },
   "file_extension": ".py",
   "mimetype": "text/x-python",
   "name": "python",
   "nbconvert_exporter": "python",
   "pygments_lexer": "ipython3",
   "version": "3.11.6"
  }
 },
 "nbformat": 4,
 "nbformat_minor": 4
}
