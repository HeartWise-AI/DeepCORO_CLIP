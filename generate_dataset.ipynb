{
 "cells": [
  {
   "cell_type": "code",
   "execution_count": 1,
   "metadata": {
    "notebookRunGroups": {
     "groupValue": "2"
    }
   },
   "outputs": [
    {
     "name": "stderr",
     "output_type": "stream",
     "text": [
      "/tmp/ipykernel_964914/441343652.py:9: DeprecationWarning: Importing display from IPython.core.display is deprecated since IPython 7.14, please import from IPython.display\n",
      "  from IPython.core.display import HTML, display\n"
     ]
    },
    {
     "data": {
      "text/html": [
       "<style>.container { width:100% !important; }</style>"
      ],
      "text/plain": [
       "<IPython.core.display.HTML object>"
      ]
     },
     "metadata": {},
     "output_type": "display_data"
    }
   ],
   "source": [
    "import numpy as np\n",
    "import pandas as pd\n",
    "\n",
    "# pd.set_option('display.height', 1000)\n",
    "pd.set_option(\"display.max_rows\", None)\n",
    "pd.set_option(\"display.max_columns\", None)\n",
    "pd.set_option(\"display.width\", None)\n",
    "pd.set_option(\"max_colwidth\", None)\n",
    "from IPython.core.display import HTML, display\n",
    "\n",
    "display(HTML(\"<style>.container { width:100% !important; }</style>\"))\n",
    "\n",
    "\n",
    "def df_stats(df):\n",
    "    from tabulate import tabulate\n",
    "\n",
    "    while True:\n",
    "        print(\"\\n***** Shape: \", df.shape, \" *****\\n\")\n",
    "\n",
    "        columns_list = df.columns.values.tolist()\n",
    "        isnull_list = df.isnull().sum().values.tolist()\n",
    "        isunique_list = df.nunique().values.tolist()\n",
    "        dtypes_list = df.dtypes.tolist()\n",
    "\n",
    "        list_stat_val = list(zip(columns_list, isnull_list, isunique_list, dtypes_list))\n",
    "        df_stat_val = pd.DataFrame(list_stat_val, columns=[\"Name\", \"Null\", \"Unique\", \"Dtypes\"])\n",
    "        print(tabulate(df_stat_val, headers=\"keys\", tablefmt=\"psql\"))\n",
    "    return df.head()"
   ]
  },
  {
   "cell_type": "code",
   "execution_count": 2,
   "metadata": {},
   "outputs": [
    {
     "name": "stderr",
     "output_type": "stream",
     "text": [
      "INFO:generate_dataset:Loading data from /media/data1/datasets/DeepCoro/2b_CathReport_HEMO_MHI_MERGED_2017-2024_VIDEO_LEVEL.parquet\n"
     ]
    },
    {
     "name": "stdout",
     "output_type": "stream",
     "text": [
      "Loaded configuration:\n",
      "apply_mappings: true\n",
      "filters:\n",
      "  contrast_agent_class: 1\n",
      "  main_structures:\n",
      "  - Left Coronary\n",
      "  - Right Coronary\n",
      "  status: diagnostic\n",
      "report_settings:\n",
      "  coronary_specific: true\n",
      "sampling:\n",
      "  enabled: true\n",
      "  label_column: status\n",
      "  n_per_group: 9\n",
      "\n"
     ]
    },
    {
     "name": "stderr",
     "output_type": "stream",
     "text": [
      "INFO:generate_dataset:Loaded 843499 records with 788 columns\n",
      "INFO:generate_dataset:Sorted data by StudyInstanceUID and SeriesTime for temporal ordering\n",
      "INFO:generate_dataset:Assigning procedure status based on PCI timing...\n",
      "INFO:generate_dataset:Status distribution: {'PCI': 360840, 'diagnostic': 334320, 'POST_PCI': 112612, 'unknown': 35727}\n",
      "INFO:generate_dataset:Applying hard filters...\n",
      "INFO:generate_dataset:Dataset filtered from 843499 to 182393 rows\n",
      "INFO:generate_dataset:Generating medical reports...\n",
      "100%|██████████| 182393/182393 [02:02<00:00, 1488.19it/s]\n",
      "INFO:generate_dataset:Generated reports for 182393 records\n",
      "INFO:generate_dataset:Saved processed dataset to reports/processed_dataset.csv\n",
      "INFO:generate_dataset:Sampling 9 records per status...\n",
      "INFO:generate_dataset:Saved 9 diagnostic samples to reports/samples/sample_diagnostic.csv\n",
      "INFO:generate_dataset:Dataset processing completed successfully!\n"
     ]
    }
   ],
   "source": [
    "import sys\n",
    "import os\n",
    "from pathlib import Path\n",
    "import pandas as pd\n",
    "import yaml\n",
    "\n",
    "# Add the dataset_creation directory to the path (if running from parent directory)\n",
    "if 'dataset_creation' not in sys.path:\n",
    "    sys.path.append('dataset_creation')\n",
    "\n",
    "# Import the dataset generation functions\n",
    "from generate_dataset import (\n",
    "    create_default_config,\n",
    "    load_data,\n",
    "    apply_hard_filters,\n",
    "    generate_reports,\n",
    "    sample_by_status,\n",
    "    process_dataset,\n",
    "    MAIN_STRUCTURE_MAP,\n",
    "    DOMINANCE_MAP\n",
    ")\n",
    "\n",
    "\n",
    "# Load config from yaml file\n",
    "config_path = \"dataset_creation/config_template.yaml\"\n",
    "with open(config_path, 'r') as f:\n",
    "    config = yaml.safe_load(f)\n",
    "\n",
    "print(\"Loaded configuration:\")\n",
    "print(yaml.dump(config, default_flow_style=False))\n",
    "\n",
    "process_dataset('/media/data1/datasets/DeepCoro/2b_CathReport_HEMO_MHI_MERGED_2017-2024_VIDEO_LEVEL.parquet', 'reports/', config)"
   ]
  },
  {
   "cell_type": "code",
   "execution_count": 3,
   "metadata": {},
   "outputs": [
    {
     "name": "stderr",
     "output_type": "stream",
     "text": [
      "/tmp/ipykernel_2177633/3233858198.py:4: DtypeWarning: Columns (4,6,11,12,39,40,63,64,65,198,199,200,201,202,203,204,207,208,214,220,346,347,348,349,350,351,352,353,354,355,356,357,358,359,360,361,362,363,364,365,366,367,368,369,370,623,624,625,629,631,632,633,634,637,638,642,649,650,652,653,656,657,659,660,663,664,665,666,670,675,676,677,685,686,689,691,694,695,696,698,702,705,708,711,712,713,714,715,716,719,720,721,722,724,725,726,730,742,743,744,747,748,749,751,752,753,754,755,756,757,759,762,764,771,772,783) have mixed types. Specify dtype option on import or set low_memory=False.\n",
      "  df_merged = pd.read_csv('reports/processed_dataset.csv')\n"
     ]
    }
   ],
   "source": [
    "import pandas as pd\n",
    "import numpy as np\n",
    "\n",
    "df_merged = pd.read_csv('reports/processed_dataset.csv')"
   ]
  },
  {
   "cell_type": "code",
   "execution_count": 4,
   "metadata": {},
   "outputs": [
    {
     "name": "stdout",
     "output_type": "stream",
     "text": [
      "Report with mid_lad_cto == 1.0:\n"
     ]
    },
    {
     "data": {
      "text/html": [
       "<div>\n",
       "<style scoped>\n",
       "    .dataframe tbody tr th:only-of-type {\n",
       "        vertical-align: middle;\n",
       "    }\n",
       "\n",
       "    .dataframe tbody tr th {\n",
       "        vertical-align: top;\n",
       "    }\n",
       "\n",
       "    .dataframe thead th {\n",
       "        text-align: right;\n",
       "    }\n",
       "</style>\n",
       "<table border=\"1\" class=\"dataframe\">\n",
       "  <thead>\n",
       "    <tr style=\"text-align: right;\">\n",
       "      <th></th>\n",
       "      <th>Report</th>\n",
       "    </tr>\n",
       "  </thead>\n",
       "  <tbody>\n",
       "    <tr>\n",
       "      <th>165</th>\n",
       "      <td>the Left Main Coronary Artery (LMCA) has critical stenosis (~100.0%), minimal calcifications, and bifurcation lesion (Medina Bifurcation 1.1.0).\\nthe proximal LAD has mild stenosis (~20.0%), and bifurcation lesion (Medina Bifurcation 1.1.0).\\nthe mid LAD has is 100% blocked and is a CTO, and moderate calcifications.\\nthe distal LAD has no significant stenosis.\\nD1 branch has no significant stenosis.\\nD2 branch has no significant stenosis.\\nthe proximal LCX has no significant stenosis.\\nthe distal LCX has no significant stenosis.\\nOM1 has no significant stenosis.\\nOM2 has mild stenosis (~20.0%).\\nRamus has no significant stenosis.\\nleft posterolateral branch has no significant stenosis.\\nThe coronary circulation is right dominant.</td>\n",
       "    </tr>\n",
       "  </tbody>\n",
       "</table>\n",
       "</div>"
      ],
      "text/plain": [
       "                                                                                                                                                                                                                                                                                                                                                                                                                                                                                                                                                                                                                                                                                                                                                                  Report\n",
       "165  the Left Main Coronary Artery (LMCA) has critical stenosis (~100.0%), minimal calcifications, and bifurcation lesion (Medina Bifurcation 1.1.0).\\nthe proximal LAD has mild stenosis (~20.0%), and bifurcation lesion (Medina Bifurcation 1.1.0).\\nthe mid LAD has is 100% blocked and is a CTO, and moderate calcifications.\\nthe distal LAD has no significant stenosis.\\nD1 branch has no significant stenosis.\\nD2 branch has no significant stenosis.\\nthe proximal LCX has no significant stenosis.\\nthe distal LCX has no significant stenosis.\\nOM1 has no significant stenosis.\\nOM2 has mild stenosis (~20.0%).\\nRamus has no significant stenosis.\\nleft posterolateral branch has no significant stenosis.\\nThe coronary circulation is right dominant."
      ]
     },
     "metadata": {},
     "output_type": "display_data"
    },
    {
     "name": "stdout",
     "output_type": "stream",
     "text": [
      "\n",
      "Report with mid_lad_collateral == RCA:\n"
     ]
    },
    {
     "data": {
      "text/html": [
       "<div>\n",
       "<style scoped>\n",
       "    .dataframe tbody tr th:only-of-type {\n",
       "        vertical-align: middle;\n",
       "    }\n",
       "\n",
       "    .dataframe tbody tr th {\n",
       "        vertical-align: top;\n",
       "    }\n",
       "\n",
       "    .dataframe thead th {\n",
       "        text-align: right;\n",
       "    }\n",
       "</style>\n",
       "<table border=\"1\" class=\"dataframe\">\n",
       "  <thead>\n",
       "    <tr style=\"text-align: right;\">\n",
       "      <th></th>\n",
       "      <th>CathReport_MRN</th>\n",
       "      <th>Report</th>\n",
       "    </tr>\n",
       "  </thead>\n",
       "  <tbody>\n",
       "    <tr>\n",
       "      <th>414</th>\n",
       "      <td>562035</td>\n",
       "      <td>the proximal RCA has mild stenosis (~40.0%).\\nthe mid RCA has no significant stenosis.\\nthe distal RCA has no significant stenosis.\\nthe PDA has no significant stenosis.\\nthe posterolateral branch has no significant stenosis.\\nthe proximal RCA gives collaterals to the mid LAD.\\nthe mid RCA gives collaterals to the mid LAD.\\nthe distal RCA gives collaterals to the mid LAD.\\nThe coronary circulation is right dominant.</td>\n",
       "    </tr>\n",
       "    <tr>\n",
       "      <th>888</th>\n",
       "      <td>333820</td>\n",
       "      <td>the Left Main Coronary Artery (LMCA) has no significant stenosis.\\nthe proximal LAD has mild stenosis (~20.0%), and minimal calcifications.\\nthe mid LAD has is 100% blocked and is a CTO, and minimal calcifications.\\nthe distal LAD has no significant stenosis.\\nD1 branch has mild stenosis (~40.0%).\\nD2 branch has no significant stenosis.\\nthe proximal LCX has is 100% blocked and is a CTO, and minimal calcifications.\\nthe distal LCX has no significant stenosis.\\nOM1 has no significant stenosis.\\nOM2 has no significant stenosis.\\nRamus has no significant stenosis.\\nleft posterolateral branch has no significant stenosis.\\nthe mid LAD receives collaterals from the RCA.\\nthe proximal LAD gives collaterals to the proximal RCA.\\nthe mid LAD gives collaterals to the proximal RCA.\\nthe distal LAD gives collaterals to the proximal RCA.\\nThe coronary circulation is right dominant.</td>\n",
       "    </tr>\n",
       "    <tr>\n",
       "      <th>889</th>\n",
       "      <td>333820</td>\n",
       "      <td>the Left Main Coronary Artery (LMCA) has no significant stenosis.\\nthe proximal LAD has mild stenosis (~20.0%), and minimal calcifications.\\nthe mid LAD has is 100% blocked and is a CTO, and minimal calcifications.\\nthe distal LAD has no significant stenosis.\\nD1 branch has mild stenosis (~40.0%).\\nD2 branch has no significant stenosis.\\nthe proximal LCX has is 100% blocked and is a CTO, and minimal calcifications.\\nthe distal LCX has no significant stenosis.\\nOM1 has no significant stenosis.\\nOM2 has no significant stenosis.\\nRamus has no significant stenosis.\\nleft posterolateral branch has no significant stenosis.\\nthe mid LAD receives collaterals from the RCA.\\nthe proximal LAD gives collaterals to the proximal RCA.\\nthe mid LAD gives collaterals to the proximal RCA.\\nthe distal LAD gives collaterals to the proximal RCA.\\nThe coronary circulation is right dominant.</td>\n",
       "    </tr>\n",
       "    <tr>\n",
       "      <th>890</th>\n",
       "      <td>333820</td>\n",
       "      <td>the Left Main Coronary Artery (LMCA) has no significant stenosis.\\nthe proximal LAD has mild stenosis (~20.0%), and minimal calcifications.\\nthe mid LAD has is 100% blocked and is a CTO, and minimal calcifications.\\nthe distal LAD has no significant stenosis.\\nD1 branch has mild stenosis (~40.0%).\\nD2 branch has no significant stenosis.\\nthe proximal LCX has is 100% blocked and is a CTO, and minimal calcifications.\\nthe distal LCX has no significant stenosis.\\nOM1 has no significant stenosis.\\nOM2 has no significant stenosis.\\nRamus has no significant stenosis.\\nleft posterolateral branch has no significant stenosis.\\nthe mid LAD receives collaterals from the RCA.\\nthe proximal LAD gives collaterals to the proximal RCA.\\nthe mid LAD gives collaterals to the proximal RCA.\\nthe distal LAD gives collaterals to the proximal RCA.\\nThe coronary circulation is right dominant.</td>\n",
       "    </tr>\n",
       "    <tr>\n",
       "      <th>891</th>\n",
       "      <td>333820</td>\n",
       "      <td>the Left Main Coronary Artery (LMCA) has no significant stenosis.\\nthe proximal LAD has mild stenosis (~20.0%), and minimal calcifications.\\nthe mid LAD has is 100% blocked and is a CTO, and minimal calcifications.\\nthe distal LAD has no significant stenosis.\\nD1 branch has mild stenosis (~40.0%).\\nD2 branch has no significant stenosis.\\nthe proximal LCX has is 100% blocked and is a CTO, and minimal calcifications.\\nthe distal LCX has no significant stenosis.\\nOM1 has no significant stenosis.\\nOM2 has no significant stenosis.\\nRamus has no significant stenosis.\\nleft posterolateral branch has no significant stenosis.\\nthe mid LAD receives collaterals from the RCA.\\nthe proximal LAD gives collaterals to the proximal RCA.\\nthe mid LAD gives collaterals to the proximal RCA.\\nthe distal LAD gives collaterals to the proximal RCA.\\nThe coronary circulation is right dominant.</td>\n",
       "    </tr>\n",
       "  </tbody>\n",
       "</table>\n",
       "</div>"
      ],
      "text/plain": [
       "     CathReport_MRN  \\\n",
       "414          562035   \n",
       "888          333820   \n",
       "889          333820   \n",
       "890          333820   \n",
       "891          333820   \n",
       "\n",
       "                                                                                                                                                                                                                                                                                                                                                                                                                                                                                                                                                                                                                                                                                                                                                                                                                                                                                                                Report  \n",
       "414                                                                                                                                                                                                                                                                                                                                                                                                                                                                                the proximal RCA has mild stenosis (~40.0%).\\nthe mid RCA has no significant stenosis.\\nthe distal RCA has no significant stenosis.\\nthe PDA has no significant stenosis.\\nthe posterolateral branch has no significant stenosis.\\nthe proximal RCA gives collaterals to the mid LAD.\\nthe mid RCA gives collaterals to the mid LAD.\\nthe distal RCA gives collaterals to the mid LAD.\\nThe coronary circulation is right dominant.  \n",
       "888  the Left Main Coronary Artery (LMCA) has no significant stenosis.\\nthe proximal LAD has mild stenosis (~20.0%), and minimal calcifications.\\nthe mid LAD has is 100% blocked and is a CTO, and minimal calcifications.\\nthe distal LAD has no significant stenosis.\\nD1 branch has mild stenosis (~40.0%).\\nD2 branch has no significant stenosis.\\nthe proximal LCX has is 100% blocked and is a CTO, and minimal calcifications.\\nthe distal LCX has no significant stenosis.\\nOM1 has no significant stenosis.\\nOM2 has no significant stenosis.\\nRamus has no significant stenosis.\\nleft posterolateral branch has no significant stenosis.\\nthe mid LAD receives collaterals from the RCA.\\nthe proximal LAD gives collaterals to the proximal RCA.\\nthe mid LAD gives collaterals to the proximal RCA.\\nthe distal LAD gives collaterals to the proximal RCA.\\nThe coronary circulation is right dominant.  \n",
       "889  the Left Main Coronary Artery (LMCA) has no significant stenosis.\\nthe proximal LAD has mild stenosis (~20.0%), and minimal calcifications.\\nthe mid LAD has is 100% blocked and is a CTO, and minimal calcifications.\\nthe distal LAD has no significant stenosis.\\nD1 branch has mild stenosis (~40.0%).\\nD2 branch has no significant stenosis.\\nthe proximal LCX has is 100% blocked and is a CTO, and minimal calcifications.\\nthe distal LCX has no significant stenosis.\\nOM1 has no significant stenosis.\\nOM2 has no significant stenosis.\\nRamus has no significant stenosis.\\nleft posterolateral branch has no significant stenosis.\\nthe mid LAD receives collaterals from the RCA.\\nthe proximal LAD gives collaterals to the proximal RCA.\\nthe mid LAD gives collaterals to the proximal RCA.\\nthe distal LAD gives collaterals to the proximal RCA.\\nThe coronary circulation is right dominant.  \n",
       "890  the Left Main Coronary Artery (LMCA) has no significant stenosis.\\nthe proximal LAD has mild stenosis (~20.0%), and minimal calcifications.\\nthe mid LAD has is 100% blocked and is a CTO, and minimal calcifications.\\nthe distal LAD has no significant stenosis.\\nD1 branch has mild stenosis (~40.0%).\\nD2 branch has no significant stenosis.\\nthe proximal LCX has is 100% blocked and is a CTO, and minimal calcifications.\\nthe distal LCX has no significant stenosis.\\nOM1 has no significant stenosis.\\nOM2 has no significant stenosis.\\nRamus has no significant stenosis.\\nleft posterolateral branch has no significant stenosis.\\nthe mid LAD receives collaterals from the RCA.\\nthe proximal LAD gives collaterals to the proximal RCA.\\nthe mid LAD gives collaterals to the proximal RCA.\\nthe distal LAD gives collaterals to the proximal RCA.\\nThe coronary circulation is right dominant.  \n",
       "891  the Left Main Coronary Artery (LMCA) has no significant stenosis.\\nthe proximal LAD has mild stenosis (~20.0%), and minimal calcifications.\\nthe mid LAD has is 100% blocked and is a CTO, and minimal calcifications.\\nthe distal LAD has no significant stenosis.\\nD1 branch has mild stenosis (~40.0%).\\nD2 branch has no significant stenosis.\\nthe proximal LCX has is 100% blocked and is a CTO, and minimal calcifications.\\nthe distal LCX has no significant stenosis.\\nOM1 has no significant stenosis.\\nOM2 has no significant stenosis.\\nRamus has no significant stenosis.\\nleft posterolateral branch has no significant stenosis.\\nthe mid LAD receives collaterals from the RCA.\\nthe proximal LAD gives collaterals to the proximal RCA.\\nthe mid LAD gives collaterals to the proximal RCA.\\nthe distal LAD gives collaterals to the proximal RCA.\\nThe coronary circulation is right dominant.  "
      ]
     },
     "metadata": {},
     "output_type": "display_data"
    },
    {
     "name": "stdout",
     "output_type": "stream",
     "text": [
      "\n",
      "Report with leftmain_bifurcation present:\n"
     ]
    },
    {
     "data": {
      "text/html": [
       "<div>\n",
       "<style scoped>\n",
       "    .dataframe tbody tr th:only-of-type {\n",
       "        vertical-align: middle;\n",
       "    }\n",
       "\n",
       "    .dataframe tbody tr th {\n",
       "        vertical-align: top;\n",
       "    }\n",
       "\n",
       "    .dataframe thead th {\n",
       "        text-align: right;\n",
       "    }\n",
       "</style>\n",
       "<table border=\"1\" class=\"dataframe\">\n",
       "  <thead>\n",
       "    <tr style=\"text-align: right;\">\n",
       "      <th></th>\n",
       "      <th>Report</th>\n",
       "    </tr>\n",
       "  </thead>\n",
       "  <tbody>\n",
       "    <tr>\n",
       "      <th>0</th>\n",
       "      <td>the Left Main Coronary Artery (LMCA) has no significant stenosis.\\nthe proximal LAD has no significant stenosis.\\nthe mid LAD has no significant stenosis.\\nthe distal LAD has no significant stenosis.\\nD1 branch has no significant stenosis.\\nD2 branch has no significant stenosis.\\nthe proximal LCX has no significant stenosis.\\nthe distal LCX has no significant stenosis.\\nOM1 has no significant stenosis.\\nOM2 has no significant stenosis.\\nRamus has no significant stenosis.\\nleft posterolateral branch has no significant stenosis.\\nthe LEFT PDA has no significant stenosis.\\nleft posterolateral branch has no significant stenosis.\\nThe coronary circulation is left dominant.</td>\n",
       "    </tr>\n",
       "    <tr>\n",
       "      <th>1</th>\n",
       "      <td>the Left Main Coronary Artery (LMCA) has no significant stenosis.\\nthe proximal LAD has no significant stenosis.\\nthe mid LAD has no significant stenosis.\\nthe distal LAD has no significant stenosis.\\nD1 branch has no significant stenosis.\\nD2 branch has no significant stenosis.\\nthe proximal LCX has no significant stenosis.\\nthe distal LCX has no significant stenosis.\\nOM1 has no significant stenosis.\\nOM2 has no significant stenosis.\\nRamus has no significant stenosis.\\nleft posterolateral branch has no significant stenosis.\\nthe LEFT PDA has no significant stenosis.\\nleft posterolateral branch has no significant stenosis.\\nThe coronary circulation is left dominant.</td>\n",
       "    </tr>\n",
       "    <tr>\n",
       "      <th>7</th>\n",
       "      <td>the Left Main Coronary Artery (LMCA) has no significant stenosis.\\nthe proximal LAD has no significant stenosis.\\nthe mid LAD has severe stenosis (~70.0%), moderate calcifications, and bifurcation lesion (Medina Bifurcation 1.1.0).\\nthe distal LAD has severe stenosis (~80.0%), and minimal calcifications.\\nD1 branch has severe stenosis (~80.0%), and minimal calcifications.\\nD2 branch has no significant stenosis.\\nthe proximal LCX has no significant stenosis.\\nthe distal LCX has no significant stenosis.\\nOM1 has no significant stenosis.\\nOM2 has severe stenosis (~70.0%), and minimal calcifications.\\nRamus has no significant stenosis.\\nleft posterolateral branch has no significant stenosis.\\nThe coronary circulation is right dominant.</td>\n",
       "    </tr>\n",
       "    <tr>\n",
       "      <th>8</th>\n",
       "      <td>the proximal RCA has severe stenosis (~70.0%), and minimal calcifications.\\nthe mid RCA has severe stenosis (~70.0%), and minimal calcifications.\\nthe distal RCA has severe stenosis (~70.0%), and minimal calcifications.\\nthe PDA has no significant stenosis.\\nthe posterolateral branch has no significant stenosis.\\nThe coronary circulation is right dominant.</td>\n",
       "    </tr>\n",
       "    <tr>\n",
       "      <th>9</th>\n",
       "      <td>the Left Main Coronary Artery (LMCA) has no significant stenosis.\\nthe proximal LAD has no significant stenosis.\\nthe mid LAD has no significant stenosis.\\nthe distal LAD has no significant stenosis.\\nD1 branch has no significant stenosis.\\nD2 branch has no significant stenosis.\\nthe proximal LCX has no significant stenosis.\\nthe distal LCX has no significant stenosis.\\nOM1 has no significant stenosis.\\nOM2 has no significant stenosis.\\nRamus has no significant stenosis.\\nleft posterolateral branch has no significant stenosis.\\nThe coronary circulation is right dominant.</td>\n",
       "    </tr>\n",
       "  </tbody>\n",
       "</table>\n",
       "</div>"
      ],
      "text/plain": [
       "                                                                                                                                                                                                                                                                                                                                                                                                                                                                                                                                                                                                                                                                                                                                                                  Report\n",
       "0                                                                   the Left Main Coronary Artery (LMCA) has no significant stenosis.\\nthe proximal LAD has no significant stenosis.\\nthe mid LAD has no significant stenosis.\\nthe distal LAD has no significant stenosis.\\nD1 branch has no significant stenosis.\\nD2 branch has no significant stenosis.\\nthe proximal LCX has no significant stenosis.\\nthe distal LCX has no significant stenosis.\\nOM1 has no significant stenosis.\\nOM2 has no significant stenosis.\\nRamus has no significant stenosis.\\nleft posterolateral branch has no significant stenosis.\\nthe LEFT PDA has no significant stenosis.\\nleft posterolateral branch has no significant stenosis.\\nThe coronary circulation is left dominant.\n",
       "1                                                                   the Left Main Coronary Artery (LMCA) has no significant stenosis.\\nthe proximal LAD has no significant stenosis.\\nthe mid LAD has no significant stenosis.\\nthe distal LAD has no significant stenosis.\\nD1 branch has no significant stenosis.\\nD2 branch has no significant stenosis.\\nthe proximal LCX has no significant stenosis.\\nthe distal LCX has no significant stenosis.\\nOM1 has no significant stenosis.\\nOM2 has no significant stenosis.\\nRamus has no significant stenosis.\\nleft posterolateral branch has no significant stenosis.\\nthe LEFT PDA has no significant stenosis.\\nleft posterolateral branch has no significant stenosis.\\nThe coronary circulation is left dominant.\n",
       "7  the Left Main Coronary Artery (LMCA) has no significant stenosis.\\nthe proximal LAD has no significant stenosis.\\nthe mid LAD has severe stenosis (~70.0%), moderate calcifications, and bifurcation lesion (Medina Bifurcation 1.1.0).\\nthe distal LAD has severe stenosis (~80.0%), and minimal calcifications.\\nD1 branch has severe stenosis (~80.0%), and minimal calcifications.\\nD2 branch has no significant stenosis.\\nthe proximal LCX has no significant stenosis.\\nthe distal LCX has no significant stenosis.\\nOM1 has no significant stenosis.\\nOM2 has severe stenosis (~70.0%), and minimal calcifications.\\nRamus has no significant stenosis.\\nleft posterolateral branch has no significant stenosis.\\nThe coronary circulation is right dominant.\n",
       "8                                                                                                                                                                                                                                                                                                                                                                                                 the proximal RCA has severe stenosis (~70.0%), and minimal calcifications.\\nthe mid RCA has severe stenosis (~70.0%), and minimal calcifications.\\nthe distal RCA has severe stenosis (~70.0%), and minimal calcifications.\\nthe PDA has no significant stenosis.\\nthe posterolateral branch has no significant stenosis.\\nThe coronary circulation is right dominant.\n",
       "9                                                                                                                                                                      the Left Main Coronary Artery (LMCA) has no significant stenosis.\\nthe proximal LAD has no significant stenosis.\\nthe mid LAD has no significant stenosis.\\nthe distal LAD has no significant stenosis.\\nD1 branch has no significant stenosis.\\nD2 branch has no significant stenosis.\\nthe proximal LCX has no significant stenosis.\\nthe distal LCX has no significant stenosis.\\nOM1 has no significant stenosis.\\nOM2 has no significant stenosis.\\nRamus has no significant stenosis.\\nleft posterolateral branch has no significant stenosis.\\nThe coronary circulation is right dominant."
      ]
     },
     "metadata": {},
     "output_type": "display_data"
    }
   ],
   "source": [
    "# Show report where mid_lad_cto == 1.0\n",
    "print(\"Report with mid_lad_cto == 1.0:\")\n",
    "display(df_merged[df_merged['mid_lad_cto'] == 1.0][['Report']].head(1))\n",
    "\n",
    "# Show report where mid_lad_collateral == RCA\n",
    "print(\"\\nReport with mid_lad_collateral == RCA:\")\n",
    "display(df_merged[df_merged['mid_lad_collateral'] == 'RCA'][['CathReport_MRN','Report']].head(5))\n",
    "\n",
    "# Show report where leftmain_bifurcation is present\n",
    "print(\"\\nReport with leftmain_bifurcation present:\")\n",
    "display(df_merged[df_merged['mid_lad_bifurcation'] != 'Pas de lésion de bifurcation'][['Report']].head(5))\n"
   ]
  },
  {
   "cell_type": "code",
   "execution_count": null,
   "metadata": {},
   "outputs": [
    {
     "name": "stdout",
     "output_type": "stream",
     "text": [
      "Longest report text:\n",
      "the Left Main Coronary Artery (LMCA) has in-stent restenosis (severe stenosis (~70.0%)), severe calcifications, and bifurcation lesion (Medina Bifurcation 1.1.1).\n",
      "the proximal LAD has critical stenosis (~100.0%), and minimal calcifications.\n",
      "the mid LAD has no significant stenosis.\n",
      "the distal LAD has no significant stenosis.\n",
      "D1 branch has mild stenosis (~40.0%).\n",
      "D2 branch has no significant stenosis.\n",
      "the proximal LCX has critical stenosis (~100.0%), and minimal calcifications.\n",
      "the distal LCX has no significant stenosis.\n",
      "OM1 has severe stenosis (~70.0%), and minimal calcifications.\n",
      "OM2 has moderate stenosis (~50.0%).\n",
      "Ramus has no significant stenosis.\n",
      "left posterolateral branch has moderate stenosis (~50.0%).\n",
      "the proximal LAD receives collaterals from the LAD.\n",
      "the proximal LCX receives collaterals from the LAD.\n",
      "the proximal LAD gives collaterals to the proximal LAD.\n",
      "the proximal LAD gives collaterals to the proximal LCX.\n",
      "the proximal LAD gives collaterals to the proximal RCA.\n",
      "the mid LAD gives collaterals to the proximal LAD.\n",
      "the mid LAD gives collaterals to the proximal LCX.\n",
      "the mid LAD gives collaterals to the proximal RCA.\n",
      "the distal LAD gives collaterals to the proximal LAD.\n",
      "the distal LAD gives collaterals to the proximal LCX.\n",
      "the distal LAD gives collaterals to the proximal RCA.\n",
      "The coronary circulation is right dominant.\n",
      "\n",
      "Length: 1347 characters\n",
      "\n",
      "Decoded text (after tokenization):\n",
      "the left main coronary artery ( lmca ) has in - stent restenosis ( severe stenosis ( ~ 70. 0 % ) ), severe calcifications, and bifurcation lesion ( medina bifurcation 1. 1. 1 ). the proximal lad has critical stenosis ( ~ 100. 0 % ), and minimal calcifications. the mid lad has no significant stenosis. the distal lad has no significant stenosis. d1 branch has mild stenosis ( ~ 40. 0 % ). d2 branch has no significant stenosis. the proximal lcx has critical stenosis ( ~ 100. 0 % ), and minimal calcifications. the distal lcx has no significant stenosis. om1 has severe stenosis ( ~ 70. 0 % ), and minimal calcifications. om2 has moderate stenosis ( ~ 50. 0 % ). ramus has no significant stenosis. left posterolateral branch has moderate stenosis ( ~ 50. 0 % ). the proximal lad receives collaterals from the lad. the proximal lcx receives collaterals from the lad. the proximal lad gives collaterals to the proximal lad. the proximal lad gives collaterals to the proximal lcx. the proximal lad gives collaterals to the proximal rca. the mid lad gives collaterals to the proximal lad. the mid lad gives collaterals to the proximal lcx. the mid lad gives collaterals to the proximal rca. the distal lad gives collaterals to the proximal lad. the distal lad gives collaterals to the proximal lcx. the distal lad gives collaterals to the proximal rca. the coronary circulation is right dominant.\n"
     ]
    }
   ],
   "source": [
    "## Tokenization of the longest report\n",
    "from transformers import AutoTokenizer, AutoModel\n",
    "\n",
    "# Load PubMedBERT tokenizer\n",
    "tokenizer = AutoTokenizer.from_pretrained(\"microsoft/BiomedNLP-PubMedBERT-base-uncased-abstract-fulltext\")\n",
    "\n",
    "# Get the longest text from the dataframe\n",
    "sample_text = df_merged.loc[df_merged['Report'].str.len().idxmax(), 'Report']\n",
    "print(\"Longest report text:\")\n",
    "print(sample_text)\n",
    "print(f\"\\nLength: {len(sample_text)} characters\")\n",
    "\n",
    "# Encode the text\n",
    "encoded = tokenizer(\n",
    "    sample_text,\n",
    "    padding=\"max_length\",\n",
    "    max_length=512, \n",
    "    truncation=True,\n",
    "    return_tensors=\"pt\"\n",
    ")\n",
    "\n",
    "# Decode back to text to verify\n",
    "decoded = tokenizer.decode(encoded['input_ids'][0], skip_special_tokens=True)\n",
    "print(\"\\nDecoded text (after tokenization):\")\n",
    "print(decoded)\n"
   ]
  },
  {
   "cell_type": "code",
   "execution_count": 10,
   "metadata": {},
   "outputs": [],
   "source": [
    "# Create bypass_graft column based on whether Conclusion contains \"pontage\" (case-insensitive)\n",
    "df_merged['bypass_graft'] = df_merged['Conclusion'].str.contains('pontage', case=False, na=False).astype(int)"
   ]
  },
  {
   "cell_type": "code",
   "execution_count": 11,
   "metadata": {},
   "outputs": [],
   "source": [
    "output_file_path = \"data/reports/reports_with_alpha_separator_with_Calcifc_Stenosis_IFR_20250601_RCA_LCA_merged_with_left_dominance_dependent_vessels.csv\""
   ]
  },
  {
   "cell_type": "code",
   "execution_count": 12,
   "metadata": {},
   "outputs": [
    {
     "name": "stdout",
     "output_type": "stream",
     "text": [
      "Initial dataframe length: 167134\n",
      "Length after dropping External_Exam: 167134\n",
      "Length after dropping bypass_graft: 167134\n",
      "Length after dropping NaN reports: 167134\n",
      "Final length after filtering stenosis columns: 167134\n"
     ]
    }
   ],
   "source": [
    "import os\n",
    "\n",
    "output_dir = os.path.dirname(output_file_path)\n",
    "\n",
    "# Check if the directory exists, if not create it\n",
    "if not os.path.exists(output_dir):\n",
    "    os.makedirs(output_dir)\n",
    "\n",
    "print(f\"Initial dataframe length: {len(df_merged)}\")\n",
    "\n",
    "# Drop rows where 'External_Exam' is True\n",
    "df_merged = df_merged[df_merged[\"External_Exam\"] != True]\n",
    "print(f\"Length after dropping External_Exam: {len(df_merged)}\")\n",
    "\n",
    "df_merged = df_merged[df_merged[\"bypass_graft\"] != 1]\n",
    "print(f\"Length after dropping bypass_graft: {len(df_merged)}\")\n",
    "\n",
    "df_non_nan_reports = df_merged.dropna(subset=[\"Report\"])\n",
    "print(f\"Length after dropping NaN reports: {len(df_non_nan_reports)}\")\n",
    "\n",
    "\n",
    "# List of stenosis columns to check\n",
    "stenosis_columns = [\n",
    "    \"prox_rca_stenosis\", \"mid_rca_stenosis\", \"dist_rca_stenosis\",\n",
    "    \"left_main_stenosis\", \"prox_lad_stenosis\", \"mid_lad_stenosis\", \"dist_lad_stenosis\",\n",
    "    \"D1_stenosis\", \"D2_stenosis\", \"prox_lcx_stenosis\", \"dist_lcx_stenosis\",\n",
    "    \"om1_stenosis\", \"om2_stenosis\", \"bx_stenosis\", \"lvp_stenosis\",\n",
    "    \"pda_stenosis\", \"posterolateral_stenosis\"\n",
    "]\n",
    "\n",
    "# Create a boolean DataFrame indicating if each cell is NaN or -1.0\n",
    "is_na_or_minus_one = df_non_nan_reports[stenosis_columns].isna() | (df_non_nan_reports[stenosis_columns] == -1.0)\n",
    "\n",
    "# Create a mask for rows where NOT ALL stenosis columns are NaN or -1.0\n",
    "mask = ~is_na_or_minus_one.all(axis=1)\n",
    "\n",
    "# Filter the DataFrame to drop rows meeting the unwanted condition\n",
    "df_non_nan_reports = df_non_nan_reports[mask]\n",
    "print(f\"Final length after filtering stenosis columns: {len(df_non_nan_reports)}\")\n",
    "\n",
    "df_non_nan_reports.to_csv(output_file_path, sep=\"α\", index=False, header=True)"
   ]
  },
  {
   "cell_type": "code",
   "execution_count": 15,
   "metadata": {},
   "outputs": [
    {
     "data": {
      "text/plain": [
       "Split\n",
       "train    117120\n",
       "val       25306\n",
       "test      24708\n",
       "Name: count, dtype: int64"
      ]
     },
     "metadata": {},
     "output_type": "display_data"
    }
   ],
   "source": [
    "def assign_patient_splits(df_final, output_path, train_ratio=0.7, val_ratio=0.15, random_state=42):\n",
    "    \"\"\"\n",
    "    Assigns patients to train/val/test splits and saves the resulting dataframe.\n",
    "    \n",
    "    Args:\n",
    "        df_final (pd.DataFrame): Input dataframe containing patient data\n",
    "        output_path (str): Path where the output CSV file will be saved\n",
    "        train_ratio (float): Ratio of patients to assign to training set (default 0.7)\n",
    "        val_ratio (float): Ratio of patients to assign to validation set (default 0.15)\n",
    "        random_state (int): Random seed for reproducibility (default 42)\n",
    "        \n",
    "    Returns:\n",
    "        pd.DataFrame: Dataframe with train/val/test splits assigned\n",
    "    \"\"\"\n",
    "    # Split patients into train/val/test\n",
    "    unique_patients = df_final[\"CathReport_MRN\"].drop_duplicates()\n",
    "    train_size = int(train_ratio * len(unique_patients))\n",
    "    val_size = int(val_ratio * len(unique_patients))\n",
    "    \n",
    "    # Sample patients for each split\n",
    "    train_patients = unique_patients.sample(n=train_size, random_state=random_state)\n",
    "    remaining_patients = unique_patients.drop(train_patients.index)\n",
    "    val_patients = remaining_patients.sample(n=val_size, random_state=random_state)\n",
    "    test_patients = remaining_patients.drop(val_patients.index)\n",
    "\n",
    "    # Keep only the sampled patients in the dataframe\n",
    "    df_sampled = df_final[\n",
    "        df_final[\"CathReport_MRN\"].isin(train_patients) \n",
    "        | df_final[\"CathReport_MRN\"].isin(val_patients)\n",
    "        | df_final[\"CathReport_MRN\"].isin(test_patients)\n",
    "    ]\n",
    "\n",
    "    # Assign split based on CathReport_MRN\n",
    "    df_sampled.loc[df_sampled[\"CathReport_MRN\"].isin(train_patients), \"Split\"] = \"train\"\n",
    "    df_sampled.loc[df_sampled[\"CathReport_MRN\"].isin(val_patients), \"Split\"] = \"val\"\n",
    "    df_sampled.loc[df_sampled[\"CathReport_MRN\"].isin(test_patients), \"Split\"] = \"test\"\n",
    "\n",
    "    # Save the dataframe\n",
    "    df_sampled.to_csv(output_path, sep=\"α\", index=False)\n",
    "    \n",
    "    display(df_sampled.Split.value_counts())\n",
    "    return df_sampled\n",
    "\n",
    "df_sampled = assign_patient_splits(\n",
    "    df_final=df_non_nan_reports,\n",
    "    output_path=output_file_path,\n",
    "    train_ratio=0.7,\n",
    "    val_ratio=0.10,\n",
    "    random_state=42\n",
    ")"
   ]
  },
  {
   "cell_type": "code",
   "execution_count": 18,
   "metadata": {},
   "outputs": [
    {
     "data": {
      "text/plain": [
       "Split\n",
       "test      4828\n",
       "train    22764\n",
       "val       4881\n",
       "Name: StudyInstanceUID, dtype: int64"
      ]
     },
     "metadata": {},
     "output_type": "display_data"
    }
   ],
   "source": [
    "# Count unique StudyInstanceUIDs per split\n",
    "split_counts = df_sampled.groupby('Split')['StudyInstanceUID'].nunique()\n",
    "display(split_counts)"
   ]
  },
  {
   "cell_type": "code",
   "execution_count": 14,
   "metadata": {},
   "outputs": [
    {
     "name": "stderr",
     "output_type": "stream",
     "text": [
      "/tmp/ipykernel_2177633/2776994287.py:2: ParserWarning: Falling back to the 'python' engine because the separator encoded in utf-8 is > 1 char long, and the 'c' engine does not support such separators; you can avoid this warning by specifying engine='python'.\n",
      "  df_sampled = pd.read_csv(output_file_path, sep=\"α\")\n"
     ]
    },
    {
     "ename": "AttributeError",
     "evalue": "'DataFrame' object has no attribute 'object_value'",
     "output_type": "error",
     "traceback": [
      "\u001b[0;31m---------------------------------------------------------------------------\u001b[0m",
      "\u001b[0;31mAttributeError\u001b[0m                            Traceback (most recent call last)",
      "\u001b[0;32m/tmp/ipykernel_2177633/2776994287.py\u001b[0m in \u001b[0;36m?\u001b[0;34m()\u001b[0m\n\u001b[1;32m      1\u001b[0m \u001b[0;32mimport\u001b[0m \u001b[0mpandas\u001b[0m \u001b[0;32mas\u001b[0m \u001b[0mpd\u001b[0m\u001b[0;34m\u001b[0m\u001b[0;34m\u001b[0m\u001b[0m\n\u001b[1;32m      2\u001b[0m \u001b[0mdf_sampled\u001b[0m \u001b[0;34m=\u001b[0m \u001b[0mpd\u001b[0m\u001b[0;34m.\u001b[0m\u001b[0mread_csv\u001b[0m\u001b[0;34m(\u001b[0m\u001b[0moutput_file_path\u001b[0m\u001b[0;34m,\u001b[0m \u001b[0msep\u001b[0m\u001b[0;34m=\u001b[0m\u001b[0;34m\"α\"\u001b[0m\u001b[0;34m)\u001b[0m\u001b[0;34m\u001b[0m\u001b[0;34m\u001b[0m\u001b[0m\n\u001b[1;32m      3\u001b[0m \u001b[0;34m\u001b[0m\u001b[0m\n\u001b[0;32m----> 4\u001b[0;31m \u001b[0mdisplay\u001b[0m\u001b[0;34m(\u001b[0m\u001b[0mdf_sampled\u001b[0m\u001b[0;34m.\u001b[0m\u001b[0mobject_value\u001b[0m\u001b[0;34m.\u001b[0m\u001b[0mvalue_counts\u001b[0m\u001b[0;34m(\u001b[0m\u001b[0;34m)\u001b[0m\u001b[0;34m)\u001b[0m\u001b[0;34m\u001b[0m\u001b[0;34m\u001b[0m\u001b[0m\n\u001b[0m",
      "\u001b[0;32m/volume/DeepCORO_CLIP/.venv/lib/python3.10/site-packages/pandas/core/generic.py\u001b[0m in \u001b[0;36m?\u001b[0;34m(self, name)\u001b[0m\n\u001b[1;32m   6295\u001b[0m             \u001b[0;32mand\u001b[0m \u001b[0mname\u001b[0m \u001b[0;32mnot\u001b[0m \u001b[0;32min\u001b[0m \u001b[0mself\u001b[0m\u001b[0;34m.\u001b[0m\u001b[0m_accessors\u001b[0m\u001b[0;34m\u001b[0m\u001b[0;34m\u001b[0m\u001b[0m\n\u001b[1;32m   6296\u001b[0m             \u001b[0;32mand\u001b[0m \u001b[0mself\u001b[0m\u001b[0;34m.\u001b[0m\u001b[0m_info_axis\u001b[0m\u001b[0;34m.\u001b[0m\u001b[0m_can_hold_identifiers_and_holds_name\u001b[0m\u001b[0;34m(\u001b[0m\u001b[0mname\u001b[0m\u001b[0;34m)\u001b[0m\u001b[0;34m\u001b[0m\u001b[0;34m\u001b[0m\u001b[0m\n\u001b[1;32m   6297\u001b[0m         ):\n\u001b[1;32m   6298\u001b[0m             \u001b[0;32mreturn\u001b[0m \u001b[0mself\u001b[0m\u001b[0;34m[\u001b[0m\u001b[0mname\u001b[0m\u001b[0;34m]\u001b[0m\u001b[0;34m\u001b[0m\u001b[0;34m\u001b[0m\u001b[0m\n\u001b[0;32m-> 6299\u001b[0;31m         \u001b[0;32mreturn\u001b[0m \u001b[0mobject\u001b[0m\u001b[0;34m.\u001b[0m\u001b[0m__getattribute__\u001b[0m\u001b[0;34m(\u001b[0m\u001b[0mself\u001b[0m\u001b[0;34m,\u001b[0m \u001b[0mname\u001b[0m\u001b[0;34m)\u001b[0m\u001b[0;34m\u001b[0m\u001b[0;34m\u001b[0m\u001b[0m\n\u001b[0m",
      "\u001b[0;31mAttributeError\u001b[0m: 'DataFrame' object has no attribute 'object_value'"
     ]
    }
   ],
   "source": [
    "import pandas as pd\n",
    "df_sampled = pd.read_csv(output_file_path, sep=\"α\")\n",
    "\n",
    "display(df_sampled.object_value.value_counts())"
   ]
  },
  {
   "cell_type": "code",
   "execution_count": null,
   "metadata": {},
   "outputs": [],
   "source": [
    "# Sample 30 unique StudyInstanceUIDs\n",
    "sampled_study_ids = df_sampled[\"StudyInstanceUID\"].unique()\n",
    "sampled_study_ids = np.random.choice(sampled_study_ids, size=30, replace=False)\n",
    "\n",
    "# Keep only rows matching the sampled StudyInstanceUIDs\n",
    "df_sampled = df_sampled[df_sampled[\"StudyInstanceUID\"].isin(sampled_study_ids)]\n",
    "display(df_sampled.Split.value_counts())\n",
    "display(df_sampled.StudyInstanceUID.value_counts())\n",
    "df_sampled.to_csv('data/reports/report_sampled_200.csv', sep='α', index=False)\n"
   ]
  },
  {
   "cell_type": "code",
   "execution_count": null,
   "metadata": {},
   "outputs": [],
   "source": [
    "import sys\n",
    "import os\n",
    "import numpy as np\n",
    "## CHANGE THIS\n",
    "dir2 = os.path.abspath(\"/volume/DicomVideoProcessing/downloadAvi\")\n",
    "dir1 = os.path.dirname(dir2)\n",
    "if not dir1 in sys.path:\n",
    "    sys.path.append(dir1)\n",
    "\n",
    "from downloadAvi import plot_avi\n",
    "\n",
    "# Sample 2-3 random StudyInstanceUIDs\n",
    "study_ids = df_non_nan_reports.loc[df_non_nan_reports['coronary_dominance_consensus']=='right_dominant']['StudyInstanceUID'].unique()\n",
    "\n",
    "sampled_studies = np.random.choice(study_ids, size=3, replace=False)\n",
    "\n",
    "# For each sampled study, plot 8 videos\n",
    "for study_id in sampled_studies:\n",
    "    study_videos = df_non_nan_reports[df_non_nan_reports['StudyInstanceUID'] == study_id]\n",
    "    if len(study_videos) >= 3:\n",
    "        study_sample = study_videos.sample(n=9, replace=len(study_videos) < 9)\n",
    "        print(study_sample.FileName.nunique())\n",
    "        plot_avi.sample_and_plot_middle_frames(study_sample, 9, \n",
    "                                             label_column='Report', \n",
    "                                             path_column='FileName')\n",
    "        \n",
    "        "
   ]
  },
  {
   "cell_type": "markdown",
   "metadata": {},
   "source": [
    "## Example tokenization"
   ]
  },
  {
   "cell_type": "code",
   "execution_count": 30,
   "metadata": {},
   "outputs": [
    {
     "name": "stderr",
     "output_type": "stream",
     "text": [
      "/tmp/ipykernel_579859/1767801863.py:1: ParserWarning: Falling back to the 'python' engine because the separator encoded in utf-8 is > 1 char long, and the 'c' engine does not support such separators; you can avoid this warning by specifying engine='python'.\n",
      "  df_sampled = pd.read_csv('data/reports/reports_with_alpha_separator_with_Calcifc_Stenosis_IFR_20250601_RCA_LCA_merged_with_left_dominance_dependent_vessels.csv', sep='α')\n"
     ]
    }
   ],
   "source": [
    "df_sampled = pd.read_csv('data/reports/reports_with_alpha_separator_with_Calcifc_Stenosis_IFR_20250601_RCA_LCA_merged_with_left_dominance_dependent_vessels.csv', sep='α')\n",
    "df_sampled = df_sampled.loc[df_sampled[\"dominance_name\"] == \"left_dominant\"]"
   ]
  },
  {
   "cell_type": "code",
   "execution_count": 33,
   "metadata": {},
   "outputs": [
    {
     "name": "stdout",
     "output_type": "stream",
     "text": [
      "the Left Main Coronary Artery (LMCA) has no significant stenosis.\n",
      "the proximal LAD has no significant stenosis.\n",
      "the mid LAD has no significant stenosis.\n",
      "the distal LAD has no significant stenosis.\n",
      "D1 branch has no significant stenosis.\n",
      "D2 branch has no significant stenosis.\n",
      "the proximal LCX has no significant stenosis.\n",
      "the distal LCX has no significant stenosis.\n",
      "OM1 has no significant stenosis.\n",
      "OM2 has no significant stenosis.\n",
      "Ramus has no significant stenosis.\n",
      "left posterolateral branch has no significant stenosis.\n",
      "the LEFT PDA has no significant stenosis.\n",
      "left posterolateral branch has no significant stenosis.\n",
      "The coronary circulation is left dominant.\n"
     ]
    }
   ],
   "source": [
    "from transformers import AutoTokenizer, AutoModel\n",
    "\n",
    "# Load PubMedBERT tokenizer\n",
    "tokenizer = AutoTokenizer.from_pretrained(\"microsoft/BiomedNLP-PubMedBERT-base-uncased-abstract-fulltext\")\n",
    "\n",
    "# Get a sample text from the dataframe\n",
    "sample_text = df_sampled['Report'].iloc[1]\n",
    "print(sample_text)\n",
    "# Encode the text\n",
    "encoded = tokenizer(\n",
    "    sample_text,\n",
    "    padding=\"max_length\",\n",
    "    max_length=512, \n",
    "    truncation=True,\n",
    "    return_tensors=\"pt\"\n",
    ")\n",
    "\n",
    "# Decode back to text to verify\n",
    "decoded = tokenizer.decode(encoded['input_ids'][0], skip_special_tokens=True)\n"
   ]
  }
 ],
 "metadata": {
  "kernelspec": {
   "display_name": ".venv",
   "language": "python",
   "name": "python3"
  },
  "language_info": {
   "codemirror_mode": {
    "name": "ipython",
    "version": 3
   },
   "file_extension": ".py",
   "mimetype": "text/x-python",
   "name": "python",
   "nbconvert_exporter": "python",
   "pygments_lexer": "ipython3",
   "version": "3.10.13"
  }
 },
 "nbformat": 4,
 "nbformat_minor": 4
}
