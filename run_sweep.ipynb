{
 "cells": [
  {
   "cell_type": "code",
   "execution_count": null,
   "metadata": {},
   "outputs": [
    {
     "name": "stderr",
     "output_type": "stream",
     "text": [
      "Failed to detect the name of this notebook, you can set it manually with the WANDB_NOTEBOOK_NAME environment variable to enable code saving.\n",
      "\u001b[34m\u001b[1mwandb\u001b[0m: Using wandb-core as the SDK backend.  Please refer to https://wandb.me/wandb-core for more information.\n"
     ]
    },
    {
     "name": "stdout",
     "output_type": "stream",
     "text": [
      "Create sweep with ID: mlwwixwi\n",
      "Sweep URL: https://wandb.ai/mhi_ai/My_DeepCORO_Clip_Sweep_new_hyperparam/sweeps/mlwwixwi\n",
      "wandb: Agent Starting Run: afz16so2 with config:\n",
      "\tbatch_size: 32\n",
      "\tdropout: 0.36087595303495096\n",
      "\tepochs: 40\n",
      "\tfactor: 0.3\n",
      "\tlearning_rate: 1.645301493190528e-06\n",
      "\tlr_step_period: 5\n",
      "\toptimizer: AdamW\n",
      "\tpatience: 10\n",
      "\trandom_augment: True\n",
      "\tscheduler_type: step\n",
      "\tstride: 2\n",
      "\ttemperature: 0.4634372935313429\n",
      "\ttext_freeze_ratio: 0.5\n",
      "\tvideo_freeze_ratio: 1\n",
      "{'batch_size': 4, 'learning_rate': 1.645301493190528e-06, 'epochs': 40, 'num_workers': 24, 'gpu': 1, 'model_name': 'mvit', 'optimizer': 'RAdam', 'weight_decay': 1e-06, 'scheduler_type': 'step', 'lr_step_period': 5, 'factor': 0.3, 'frames': 16, 'pretrained': True, 'config': 'config/default_config.yaml', 'local_rank': 0, 'debug': False, 'temperature': 0.4634372935313429, 'data_filename': 'data/reports/reports_sampled_no_conclusion.csv', 'root': '.', 'target_label': 'Report', 'datapoint_loc_label': 'FileName', 'stride': 2, 'random_augment': True, 'dropout': 0.36087595303495096, 'video_freeze_ratio': 1.0, 'text_freeze_ratio': 0.5, 'use_amp': True, 'patience': 10, 'project': 'deepCORO_CLIP', 'entity': 'mhi_ai', 'tag': 'DeepCORO_Clip_Sweep_Learnable_Temp_Full', 'output_dir': 'outputs'}\n"
     ]
    },
    {
     "name": "stderr",
     "output_type": "stream",
     "text": [
      "wandb: Using wandb-core as the SDK backend.  Please refer to https://wandb.me/wandb-core for more information.\n",
      "wandb: WARNING Ignoring project 'deepCORO_CLIP' when running a sweep.\n",
      "wandb: WARNING Ignoring entity 'mhi_ai' when running a sweep.\n",
      "wandb: Currently logged in as: robertavram (mhi_ai). Use `wandb login --relogin` to force relogin\n",
      "wandb: Tracking run with wandb version 0.19.0\n",
      "wandb: Run data is saved locally in /volume/DeepCORO_CLIP/wandb/run-20241227_040514-afz16so2\n",
      "wandb: Run `wandb offline` to turn off syncing.\n",
      "wandb: Syncing run DeepCORO_Clip_Sweep_Learnable_Temp_Full\n",
      "wandb: ⭐️ View project at https://wandb.ai/mhi_ai/My_DeepCORO_Clip_Sweep_new_hyperparam\n",
      "wandb: 🧹 View sweep at https://wandb.ai/mhi_ai/My_DeepCORO_Clip_Sweep_new_hyperparam/sweeps/mlwwixwi\n",
      "wandb: 🚀 View run at https://wandb.ai/mhi_ai/My_DeepCORO_Clip_Sweep_new_hyperparam/runs/afz16so2\n"
     ]
    },
    {
     "name": "stdout",
     "output_type": "stream",
     "text": [
      "Args:  Namespace(config='config/default_config.yaml', gpu=1, batch_size=4, num_workers=24, epochs=40, learning_rate=1.645301493190528e-06, local_rank=0, debug=False, temperature=0.4634372935313429, data_filename='data/reports/reports_sampled_no_conclusion.csv', root='.', target_label='Report', datapoint_loc_label='FileName', frames=16, stride=2, random_augment=True, model_name='mvit', pretrained=True, dropout=0.36087595303495096, video_freeze_ratio=1.0, text_freeze_ratio=0.5, optimizer='RAdam', weight_decay=1e-06, scheduler_type='step', lr_step_period=5, factor=0.3, use_amp=True, patience=10, project='deepCORO_CLIP', entity='mhi_ai', tag='DeepCORO_Clip_Sweep_Learnable_Temp_Full', output_dir='outputs')\n",
      "{'batch_size': 4, 'learning_rate': 1.645301493190528e-06, 'epochs': 40, 'num_workers': 24, 'gpu': 1, 'model_name': 'mvit', 'optimizer': 'RAdam', 'weight_decay': 1e-06, 'scheduler_type': 'step', 'lr_step_period': 5, 'factor': 0.3, 'frames': 16, 'pretrained': True, 'config': 'config/default_config.yaml', 'local_rank': 0, 'debug': False, 'temperature': 0.4634372935313429, 'data_filename': 'data/reports/reports_sampled_no_conclusion.csv', 'root': '.', 'target_label': 'Report', 'datapoint_loc_label': 'FileName', 'stride': 2, 'random_augment': True, 'dropout': 0.36087595303495096, 'video_freeze_ratio': 1.0, 'text_freeze_ratio': 0.5, 'use_amp': True, 'patience': 10, 'project': 'deepCORO_CLIP', 'entity': 'mhi_ai', 'tag': 'DeepCORO_Clip_Sweep_Learnable_Temp_Full', 'output_dir': 'outputs'}\n",
      "Args:  Namespace(config='config/default_config.yaml', gpu=1, batch_size=32, num_workers=24, epochs=40, learning_rate=1.645301493190528e-06, local_rank=0, debug=False, temperature=0.4634372935313429, data_filename='data/reports/reports_sampled_no_conclusion.csv', root='.', target_label='Report', datapoint_loc_label='FileName', frames=16, stride=2, random_augment=True, model_name='mvit', pretrained=True, dropout=0.36087595303495096, video_freeze_ratio=1, text_freeze_ratio=0.5, optimizer='AdamW', weight_decay=1e-06, scheduler_type='step', lr_step_period=5, factor=0.3, use_amp=True, patience=10, project='deepCORO_CLIP', entity='mhi_ai', tag='DeepCORO_Clip_Sweep_Learnable_Temp_Full', output_dir='outputs')\n",
      "\n",
      "=== Calculating Dataset Statistics ===\n"
     ]
    },
    {
     "name": "stderr",
     "output_type": "stream",
     "text": [
      "wandb: WARNING Ignoring project 'deepCORO_CLIP' when running a sweep.\n",
      "wandb: WARNING Ignoring entity 'mhi_ai' when running a sweep.\n"
     ]
    },
    {
     "name": "stdout",
     "output_type": "stream",
     "text": [
      "Stats dataset length: 128\n",
      "\n",
      "Using 100 samples for statistics calculation\n",
      "Frame count per video: 16\n"
     ]
    },
    {
     "name": "stderr",
     "output_type": "stream",
     "text": [
      "Calculating statistics: 100%|██████████| 4/4 [00:17<00:00,  4.42s/it]\n"
     ]
    },
    {
     "name": "stdout",
     "output_type": "stream",
     "text": [
      "\n",
      "Dataset Statistics:\n",
      "Mean: [121.43109893798828, 121.43109893798828, 121.43109893798828]\n",
      "Std:  [40.399723052978516, 40.399723052978516, 40.399723052978516]\n",
      "Calculated from 100 samples (80,281,600 pixels)\n",
      "===========================\n",
      "\n",
      "Using MViT backbone - forcing exactly 16 frames with stride=1\n",
      "\n",
      "Available splits in dataset:\n",
      "Split\n",
      "train    311970\n",
      "val       35529\n",
      "Name: count, dtype: int64\n",
      "\n",
      "Dataset loading statistics for split 'train':\n",
      "Total rows in CSV: 347499\n",
      "Valid files found: 347499\n",
      "Matching split 'train': 311970\n",
      "Final dataset size: 311970\n",
      "Tokenizer initialized successfully\n",
      "Using MViT backbone - forcing exactly 16 frames with stride=1\n",
      "\n",
      "Available splits in dataset:\n",
      "Split\n",
      "train    311970\n",
      "val       35529\n",
      "Name: count, dtype: int64\n",
      "\n",
      "Dataset loading statistics for split 'val':\n",
      "Total rows in CSV: 347499\n",
      "Valid files found: 347499\n",
      "Matching split 'val': 35529\n",
      "Final dataset size: 35529\n",
      "Tokenizer initialized successfully\n",
      "\n",
      "=== Dataset Information ===\n",
      "Training:   311,970 videos\n",
      "Validation: 35,529 videos\n",
      "Total:      347,499 videos\n",
      "\n",
      "Batch Size: 32\n",
      "Training Batches: 9,749\n",
      "Validation Batches: 1,111\n",
      "===========================\n",
      "\n",
      "\n",
      "Epoch 1/40\n"
     ]
    },
    {
     "name": "stderr",
     "output_type": "stream",
     "text": [
      "Training:  85%|████████▌ | 8322/9749 [5:39:45<58:12,  2.45s/it, train_loss=3.4587, avg_train_loss=3.4669]  "
     ]
    }
   ],
   "source": [
    "import yaml\n",
    "\n",
    "import wandb\n",
    "\n",
    "\n",
    "def load_yaml_config(file_path):\n",
    "    with open(file_path) as file:\n",
    "        return yaml.safe_load(file)\n",
    "\n",
    "\n",
    "sweep_conf_file_path = \"config/sweep_config.yaml\"\n",
    "sweep_conf = load_yaml_config(sweep_conf_file_path)\n",
    "count = 25  # number of runs to execute\n",
    "\n",
    "sweep_id = wandb.sweep(sweep_conf, project=sweep_conf[\"name\"], entity=\"mhi_ai\")\n",
    "\n",
    "wandb.agent(sweep_id=sweep_id, entity=\"mhi_ai\", project=sweep_conf[\"name\"], count=count)"
   ]
  },
  {
   "cell_type": "code",
   "execution_count": null,
   "metadata": {},
   "outputs": [],
   "source": [
    "import pandas as pd\n",
    "from utils.logging import cleanup_temp_video, convert_video_for_wandb\n",
    "\n",
    "# Read the CSV file containing sampled reports\n",
    "reports_df = pd.read_csv(\"data/reports/reports_sampled_no_conclusion_1000.csv\", sep=\"α\")\n",
    "print(f\"Loaded {len(reports_df)} reports\")\n"
   ]
  },
  {
   "cell_type": "code",
   "execution_count": 1,
   "metadata": {},
   "outputs": [
    {
     "ename": "NameError",
     "evalue": "name 'reports_df' is not defined",
     "output_type": "error",
     "traceback": [
      "\u001b[0;31m---------------------------------------------------------------------------\u001b[0m",
      "\u001b[0;31mNameError\u001b[0m                                 Traceback (most recent call last)",
      "Cell \u001b[0;32mIn[1], line 1\u001b[0m\n\u001b[0;32m----> 1\u001b[0m display(\u001b[43mreports_df\u001b[49m\u001b[38;5;241m.\u001b[39mFileName)\n",
      "\u001b[0;31mNameError\u001b[0m: name 'reports_df' is not defined"
     ]
    }
   ],
   "source": [
    "display(reports_df.FileName)"
   ]
  },
  {
   "cell_type": "code",
   "execution_count": null,
   "metadata": {},
   "outputs": [],
   "source": [
    "# Get first video path\n",
    "video_path = reports_df.FileName.iloc[0]\n",
    "\n",
    "# Convert video to wandb format\n",
    "mp4_path, is_temp = convert_video_for_wandb(video_path)\n",
    "\n",
    "print(f\"Converted video path: {mp4_path}\")\n",
    "print(f\"Is temporary file: {is_temp}\")\n",
    "\n",
    "# Clean up temp file if needed\n",
    "if is_temp:\n",
    "    cleanup_temp_video(mp4_path)\n"
   ]
  },
  {
   "cell_type": "code",
   "execution_count": null,
   "metadata": {},
   "outputs": [],
   "source": [
    "!ffmpeg -version"
   ]
  },
  {
   "cell_type": "code",
   "execution_count": null,
   "metadata": {},
   "outputs": [],
   "source": []
  }
 ],
 "metadata": {
  "kernelspec": {
   "display_name": "Python [conda env:pytorch] *",
   "language": "python",
   "name": "conda-env-pytorch-py"
  },
  "language_info": {
   "codemirror_mode": {
    "name": "ipython",
    "version": 3
   },
   "file_extension": ".py",
   "mimetype": "text/x-python",
   "name": "python",
   "nbconvert_exporter": "python",
   "pygments_lexer": "ipython3",
   "version": "3.11.6"
  }
 },
 "nbformat": 4,
 "nbformat_minor": 4
}
