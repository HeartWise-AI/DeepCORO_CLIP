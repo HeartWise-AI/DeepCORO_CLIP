{
 "cells": [
  {
   "cell_type": "code",
   "execution_count": null,
   "metadata": {},
   "outputs": [
    {
     "name": "stderr",
     "output_type": "stream",
     "text": [
      "Failed to detect the name of this notebook, you can set it manually with the WANDB_NOTEBOOK_NAME environment variable to enable code saving.\n",
      "\u001b[34m\u001b[1mwandb\u001b[0m: Using wandb-core as the SDK backend.  Please refer to https://wandb.me/wandb-core for more information.\n"
     ]
    },
    {
     "name": "stdout",
     "output_type": "stream",
     "text": [
      "Create sweep with ID: swdnbie9\n",
      "Sweep URL: https://wandb.ai/mhi_ai/My_DeepCORO_Clip_Sweep_new_hyperparam/sweeps/swdnbie9\n",
      "wandb: Agent Starting Run: 3ih9gki0 with config:\n",
      "\taggregator_depth: 2\n",
      "\tbatch_size: 10\n",
      "\tdropout: 0.06938798411657308\n",
      "\tepochs: 30\n",
      "\tfactor: 0.1\n",
      "\tgpu: 1\n",
      "\tlearning_rate: 5.00805668473044e-06\n",
      "\tlr_step_period: 5\n",
      "\tmax_num_videos: 4\n",
      "\tnum_heads: 2\n",
      "\toptimizer: AdamW\n",
      "\tpatience: 3\n",
      "\tscheduler_type: step\n",
      "\tstride: 2\n",
      "\ttemperature: 0.10138047395335152\n",
      "\ttext_freeze_ratio: 0.7\n",
      "\tvideo_freeze_ratio: 0.5\n"
     ]
    },
    {
     "name": "stderr",
     "output_type": "stream",
     "text": [
      "wandb: Using wandb-core as the SDK backend.  Please refer to https://wandb.me/wandb-core for more information.\n",
      "wandb: WARNING Ignoring project 'deepCORO_CLIP' when running a sweep.\n",
      "wandb: WARNING Ignoring entity 'mhi_ai' when running a sweep.\n",
      "wandb: Currently logged in as: robertavram (mhi_ai). Use `wandb login --relogin` to force relogin\n",
      "wandb: Tracking run with wandb version 0.19.0\n",
      "wandb: Run data is saved locally in /volume/DeepCORO_CLIP/wandb/run-20250121_131040-3ih9gki0\n",
      "wandb: Run `wandb offline` to turn off syncing.\n",
      "wandb: Syncing run DeepCORO_Clip_Sweep_Learnable_Temp_Full\n",
      "wandb: ⭐️ View project at https://wandb.ai/mhi_ai/My_DeepCORO_Clip_Sweep_new_hyperparam\n",
      "wandb: 🧹 View sweep at https://wandb.ai/mhi_ai/My_DeepCORO_Clip_Sweep_new_hyperparam/sweeps/swdnbie9\n",
      "wandb: 🚀 View run at https://wandb.ai/mhi_ai/My_DeepCORO_Clip_Sweep_new_hyperparam/runs/3ih9gki0\n"
     ]
    },
    {
     "name": "stdout",
     "output_type": "stream",
     "text": [
      "[W&B] Starting new run (no run_id found) with ID: 3ih9gki0\n",
      "\n",
      "=== Calculating Dataset Statistics ===\n",
      "Stats dataset length: 128\n",
      "\n",
      "Using 100 samples for statistics calculation\n",
      "Frame count per video: 16\n"
     ]
    },
    {
     "name": "stderr",
     "output_type": "stream",
     "text": [
      "Calculating statistics: 100%|██████████| 10/10 [00:05<00:00,  1.79it/s]\n"
     ]
    },
    {
     "name": "stdout",
     "output_type": "stream",
     "text": [
      "\n",
      "Dataset Statistics:\n",
      "Mean: [102.05670928955078, 102.05670928955078, 102.05670928955078]\n",
      "Std:  [39.183250427246094, 39.183250427246094, 39.183250427246094]\n",
      "Calculated from 100 samples (80,281,600 pixels)\n",
      "===========================\n",
      "\n",
      "Using MultiVideoDataset\n",
      "[MultiVideoDataset] Found 31286 studies in split='train'\n",
      "[MultiVideoDataset] Found 3463 studies in split='val'\n",
      "\n",
      "=== Dataset Information ===\n",
      "Training:   31,286 (studies if multi-video)\n",
      "Validation: 3,463 (studies if multi-video)\n",
      "Total:      34,749\n",
      "\n",
      "Batch Size: 10\n",
      "Training Batches: 3,128\n",
      "Validation Batches: 347\n",
      "===========================\n",
      "\n",
      "[Resume] start_epoch=0, best_val_loss=inf, best_epoch=-1\n",
      "Saved 3463 val texts to outputs/deepCORO_CLIP/DeepCORO_Clip_Sweep_Learnable_Temp_Full_mvit_b10_f16_AdamW_lr5.00805668473044e-06_20250121-131246_3ih9gki0/val_texts.csv\n",
      "\n",
      "Epoch 1/30\n"
     ]
    },
    {
     "name": "stderr",
     "output_type": "stream",
     "text": [
      "Training Epoch 0:   0%|          | 0/3128 [00:00<?, ?it/s]"
     ]
    },
    {
     "name": "stdout",
     "output_type": "stream",
     "text": [
      "[Debug] videos shape before aggregator: torch.Size([10, 4, 16, 224, 224, 3])\n"
     ]
    },
    {
     "name": "stderr",
     "output_type": "stream",
     "text": [
      "Training Epoch 0:   0%|          | 1/3128 [00:39<33:55:09, 39.05s/it, train_loss=2.3325, avg_train_loss=2.3325]"
     ]
    },
    {
     "name": "stdout",
     "output_type": "stream",
     "text": [
      "[Debug] videos shape before aggregator: torch.Size([10, 4, 16, 224, 224, 3])\n"
     ]
    },
    {
     "name": "stderr",
     "output_type": "stream",
     "text": [
      "Training Epoch 0:   1%|          | 30/3128 [01:22<1:24:09,  1.63s/it, train_loss=2.2982, avg_train_loss=2.3144]"
     ]
    }
   ],
   "source": [
    "import yaml\n",
    "\n",
    "import wandb\n",
    "\n",
    "def load_yaml_config(file_path):\n",
    "    with open(file_path) as file:\n",
    "        return yaml.safe_load(file)\n",
    "\n",
    "\n",
    "sweep_conf_file_path = \"config/sweep_config.yaml\"\n",
    "sweep_conf = load_yaml_config(sweep_conf_file_path)\n",
    "count = 25  # number of runs to execute\n",
    "\n",
    "sweep_id = wandb.sweep(sweep_conf, project=sweep_conf[\"name\"], entity=\"mhi_ai\")\n",
    "\n",
    "wandb.agent(sweep_id=sweep_id, entity=\"mhi_ai\", project=sweep_conf[\"name\"], count=count)"
   ]
  },
  {
   "cell_type": "code",
   "execution_count": null,
   "metadata": {},
   "outputs": [],
   "source": [
    "import pandas as pd\n",
    "from utils.logging import cleanup_temp_video, convert_video_for_wandb\n",
    "\n",
    "# Read the CSV file containing sampled reports\n",
    "reports_df = pd.read_csv(\"data/reports/reports_sampled_no_conclusion_1000.csv\", sep=\"α\")\n",
    "print(f\"Loaded {len(reports_df)} reports\")\n"
   ]
  },
  {
   "cell_type": "code",
   "execution_count": 1,
   "metadata": {},
   "outputs": [
    {
     "ename": "NameError",
     "evalue": "name 'reports_df' is not defined",
     "output_type": "error",
     "traceback": [
      "\u001b[0;31m---------------------------------------------------------------------------\u001b[0m",
      "\u001b[0;31mNameError\u001b[0m                                 Traceback (most recent call last)",
      "Cell \u001b[0;32mIn[1], line 1\u001b[0m\n\u001b[0;32m----> 1\u001b[0m display(\u001b[43mreports_df\u001b[49m\u001b[38;5;241m.\u001b[39mFileName)\n",
      "\u001b[0;31mNameError\u001b[0m: name 'reports_df' is not defined"
     ]
    }
   ],
   "source": [
    "display(reports_df.FileName)"
   ]
  },
  {
   "cell_type": "code",
   "execution_count": null,
   "metadata": {},
   "outputs": [],
   "source": [
    "# Get first video path\n",
    "video_path = reports_df.FileName.iloc[0]\n",
    "\n",
    "# Convert video to wandb format\n",
    "mp4_path, is_temp = convert_video_for_wandb(video_path)\n",
    "\n",
    "print(f\"Converted video path: {mp4_path}\")\n",
    "print(f\"Is temporary file: {is_temp}\")\n",
    "\n",
    "# Clean up temp file if needed\n",
    "if is_temp:\n",
    "    cleanup_temp_video(mp4_path)\n"
   ]
  },
  {
   "cell_type": "code",
   "execution_count": null,
   "metadata": {},
   "outputs": [],
   "source": [
    "!ffmpeg -version"
   ]
  },
  {
   "cell_type": "code",
   "execution_count": null,
   "metadata": {},
   "outputs": [],
   "source": []
  }
 ],
 "metadata": {
  "kernelspec": {
   "display_name": "Python [conda env:pytorch]",
   "language": "python",
   "name": "conda-env-pytorch-py"
  },
  "language_info": {
   "codemirror_mode": {
    "name": "ipython",
    "version": 3
   },
   "file_extension": ".py",
   "mimetype": "text/x-python",
   "name": "python",
   "nbconvert_exporter": "python",
   "pygments_lexer": "ipython3",
   "version": "3.11.6"
  }
 },
 "nbformat": 4,
 "nbformat_minor": 4
}
