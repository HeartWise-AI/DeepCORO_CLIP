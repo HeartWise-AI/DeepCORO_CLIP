{
 "cells": [
  {
   "cell_type": "code",
   "execution_count": 1,
   "metadata": {},
   "outputs": [
    {
     "name": "stderr",
     "output_type": "stream",
     "text": [
      "/tmp/ipykernel_512906/441343652.py:9: DeprecationWarning: Importing display from IPython.core.display is deprecated since IPython 7.14, please import from IPython.display\n",
      "  from IPython.core.display import HTML, display\n"
     ]
    },
    {
     "data": {
      "text/html": [
       "<style>.container { width:100% !important; }</style>"
      ],
      "text/plain": [
       "<IPython.core.display.HTML object>"
      ]
     },
     "metadata": {},
     "output_type": "display_data"
    }
   ],
   "source": [
    "import numpy as np\n",
    "import pandas as pd\n",
    "\n",
    "# pd.set_option('display.height', 1000)\n",
    "pd.set_option(\"display.max_rows\", None)\n",
    "pd.set_option(\"display.max_columns\", None)\n",
    "pd.set_option(\"display.width\", None)\n",
    "pd.set_option(\"max_colwidth\", None)\n",
    "from IPython.core.display import HTML, display\n",
    "\n",
    "display(HTML(\"<style>.container { width:100% !important; }</style>\"))\n",
    "\n",
    "\n",
    "def df_stats(df):\n",
    "    from tabulate import tabulate\n",
    "\n",
    "    while True:\n",
    "        print(\"\\n***** Shape: \", df.shape, \" *****\\n\")\n",
    "\n",
    "        columns_list = df.columns.values.tolist()\n",
    "        isnull_list = df.isnull().sum().values.tolist()\n",
    "        isunique_list = df.nunique().values.tolist()\n",
    "        dtypes_list = df.dtypes.tolist()\n",
    "\n",
    "        list_stat_val = list(zip(columns_list, isnull_list, isunique_list, dtypes_list))\n",
    "        df_stat_val = pd.DataFrame(list_stat_val, columns=[\"Name\", \"Null\", \"Unique\", \"Dtypes\"])\n",
    "        print(tabulate(df_stat_val, headers=\"keys\", tablefmt=\"psql\"))\n",
    "    return df.head()"
   ]
  },
  {
   "cell_type": "code",
   "execution_count": null,
   "metadata": {},
   "outputs": [],
   "source": [
    "# Load the CSV file with alpha (α) separator\n",
    "\n",
    "# Try loading with alpha separator\n",
    "df = pd.read_csv(\n",
    "    'data/reports/reports_with_alpha_separator_with_Calcifc_Stenosis_IFR_20250507_STUDYLEVEL.csv', \n",
    "    sep='α'\n",
    ")\n",
    "\n"
   ]
  },
  {
   "cell_type": "code",
   "execution_count": null,
   "metadata": {},
   "outputs": [],
   "source": [
    "display(df['SeriesInstanceUID'])"
   ]
  },
  {
   "cell_type": "code",
   "execution_count": null,
   "metadata": {},
   "outputs": [],
   "source": [
    "import os\n",
    "from tqdm import tqdm\n",
    "\n",
    "# Create a new column with the embedding path\n",
    "df['EmbeddingPath'] = '/media/data1/datasets/DeepCoro_CLIP/video_embeddings/xvwwv5ar/' + df['SeriesInstanceUID'] + '.pt'\n",
    "\n",
    "# Check if the embedding files exist\n",
    "def check_file_exists(path):    \n",
    "    return os.path.exists(path)\n",
    "\n",
    "# Apply the check to each row with a progress bar\n",
    "print(\"Checking if embedding files exist...\")\n",
    "df['EmbeddingExists'] = list(tqdm(map(check_file_exists, df['EmbeddingPath']), total=len(df)))\n",
    "\n",
    "# Display summary statistics\n",
    "print(f\"\\nTotal files: {len(df)}\")\n",
    "print(f\"Files that exist: {df['EmbeddingExists'].sum()}\")\n",
    "print(f\"Files missing: {len(df) - df['EmbeddingExists'].sum()}\")\n",
    "\n",
    "# Display a sample of the dataframe with the new columns\n",
    "display(df[['SOPInstanceUID', 'EmbeddingPath', 'EmbeddingExists']].head())\n"
   ]
  },
  {
   "cell_type": "code",
   "execution_count": 9,
   "metadata": {},
   "outputs": [
    {
     "name": "stderr",
     "output_type": "stream",
     "text": [
      "/tmp/ipykernel_512906/1404217126.py:5: FutureWarning: You are using `torch.load` with `weights_only=False` (the current default value), which uses the default pickle module implicitly. It is possible to construct malicious pickle data which will execute arbitrary code during unpickling (See https://github.com/pytorch/pytorch/blob/main/SECURITY.md#untrusted-models for more details). In a future release, the default value for `weights_only` will be flipped to `True`. This limits the functions that could be executed during unpickling. Arbitrary objects will no longer be allowed to be loaded via this mode unless they are explicitly allowlisted by the user via `torch.serialization.add_safe_globals`. We recommend you start setting `weights_only=True` for any use case where you don't have full control of the loaded file. Please open an issue on GitHub for any issues related to this experimental feature.\n",
      "  checkpoint = torch.load(\"outputs/DeepCORO_clip/dev_deep_coro_clip_single_video/6lex8uok_20250531-104348/checkpoints/checkpoint.pt\")\n"
     ]
    },
    {
     "data": {
      "text/plain": [
       "torch.Size([2, 393, 512])"
      ]
     },
     "metadata": {},
     "output_type": "display_data"
    },
    {
     "data": {
      "text/plain": [
       "torch.Size([2, 1, 512])"
      ]
     },
     "metadata": {},
     "output_type": "display_data"
    }
   ],
   "source": [
    "import torch\n",
    "from models.video_encoder import VideoEncoder\n",
    "\n",
    "# Load full checkpoint dict (not just the state dict)\n",
    "checkpoint = torch.load(\"outputs/DeepCORO_clip/dev_deep_coro_clip_single_video/6lex8uok_20250531-104348/checkpoints/checkpoint.pt\")\n",
    "\n",
    "# Extract just the video encoder weights\n",
    "state_dict = checkpoint[\"video_encoder\"]  # make sure this key exists!\n",
    "\n",
    "# Rebuild the model with the same architecture\n",
    "model = VideoEncoder(\n",
    "    backbone=\"mvit\", \n",
    "    input_channels=3,\n",
    "    num_frames=16,\n",
    "    pretrained=False,              # We will load trained weights manually\n",
    "    output_dim=512,\n",
    "    dropout=0.2,\n",
    "    num_heads=8,\n",
    "    freeze_ratio=0.8,\n",
    "    aggregator_depth=4,\n",
    "    aggregate_videos_tokens=True,  # Can toggle this later for inference\n",
    "    per_video_pool=False\n",
    ")\n",
    "\n",
    "# Load only the video_encoder weights\n",
    "model.load_state_dict(state_dict)\n",
    "model.eval().cuda()\n",
    "# Prepare your input tensor\n",
    "# Expected shape: [B, N, T, H, W, C]\n",
    "# For example:\n",
    "input_tensor = torch.randn(2, 1, 16, 224, 224, 3).cuda()\n",
    "\n",
    "# To get patch-level tokens: [B, N * L, D]\n",
    "patch_tokens = model.get_tokens(input_tensor, mode=\"patch\")\n",
    "display(patch_tokens.shape)\n",
    "# To get video-level tokens: [B, N, D]\n",
    "video_tokens = model.get_tokens(input_tensor, mode=\"video\")\n",
    "display(video_tokens.shape)"
   ]
  },
  {
   "cell_type": "code",
   "execution_count": null,
   "metadata": {},
   "outputs": [],
   "source": []
  }
 ],
 "metadata": {
  "kernelspec": {
   "display_name": ".venv",
   "language": "python",
   "name": "python3"
  },
  "language_info": {
   "codemirror_mode": {
    "name": "ipython",
    "version": 3
   },
   "file_extension": ".py",
   "mimetype": "text/x-python",
   "name": "python",
   "nbconvert_exporter": "python",
   "pygments_lexer": "ipython3",
   "version": "3.10.13"
  }
 },
 "nbformat": 4,
 "nbformat_minor": 2
}
